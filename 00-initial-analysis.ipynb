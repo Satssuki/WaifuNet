{
 "cells": [
  {
   "cell_type": "code",
   "execution_count": 1,
   "metadata": {},
   "outputs": [],
   "source": [
    "%matplotlib inline\n",
    "%load_ext sql"
   ]
  },
  {
   "cell_type": "code",
   "execution_count": 2,
   "metadata": {},
   "outputs": [],
   "source": [
    "import itertools\n",
    "import random\n",
    "import json\n",
    "from functools import reduce\n",
    "import numpy as np\n",
    "import pandas as pd\n",
    "import seaborn as sns\n",
    "import matplotlib.pyplot as plt"
   ]
  },
  {
   "cell_type": "code",
   "execution_count": 3,
   "metadata": {},
   "outputs": [],
   "source": [
    "sns.set(rc={\"figure.figsize\": (10, 6)})\n",
    "sns.set_style(\"whitegrid\")\n",
    "sns.set_context(\"notebook\")"
   ]
  },
  {
   "cell_type": "code",
   "execution_count": 4,
   "metadata": {},
   "outputs": [],
   "source": [
    "list_to_string = lambda x, y: x + \", \" + y"
   ]
  },
  {
   "cell_type": "code",
   "execution_count": 5,
   "metadata": {},
   "outputs": [],
   "source": [
    "def get_dbconnect_string(json_path, db_interface=\"postgresql+psycopg2\"):\n",
    "    with open(json_path, \"rb\") as fd:\n",
    "        configuration = json.loads(fd.read())\n",
    "    return db_interface + \"://{user}:{password}@{host}:{port}/{database}\".format(**configuration)\n",
    "db_configuration = get_dbconnect_string(\"database.json\")"
   ]
  },
  {
   "cell_type": "code",
   "execution_count": 6,
   "metadata": {},
   "outputs": [
    {
     "name": "stdout",
     "output_type": "stream",
     "text": [
      "1 rows affected.\n"
     ]
    },
    {
     "data": {
      "text/html": [
       "<table>\n",
       "    <tr>\n",
       "        <th>min</th>\n",
       "        <th>max</th>\n",
       "        <th>count</th>\n",
       "    </tr>\n",
       "    <tr>\n",
       "        <td>1</td>\n",
       "        <td>2900000</td>\n",
       "        <td>2867507</td>\n",
       "    </tr>\n",
       "</table>"
      ],
      "text/plain": [
       "[(1, 2900000, 2867507)]"
      ]
     },
     "execution_count": 6,
     "metadata": {},
     "output_type": "execute_result"
    }
   ],
   "source": [
    "%%sql $db_configuration\n",
    "        SELECT MIN(id), MAX(id), COUNT(*) FROM posts"
   ]
  },
  {
   "cell_type": "code",
   "execution_count": 7,
   "metadata": {},
   "outputs": [
    {
     "name": "stdout",
     "output_type": "stream",
     "text": [
      "Total posts: 2867507 – From 1 to 2900000\n"
     ]
    }
   ],
   "source": [
    "((min_id, max_id, nr_ids),) = _\n",
    "print(\"Total posts: {} – From {} to {}\".format(nr_ids, min_id, max_id))"
   ]
  },
  {
   "cell_type": "code",
   "execution_count": 8,
   "metadata": {},
   "outputs": [
    {
     "name": "stdout",
     "output_type": "stream",
     "text": [
      "24 rows affected.\n"
     ]
    }
   ],
   "source": [
    "posts_columns = %sql SELECT column_name FROM information_schema.columns WHERE table_name = 'posts'"
   ]
  },
  {
   "cell_type": "code",
   "execution_count": 9,
   "metadata": {},
   "outputs": [
    {
     "name": "stdout",
     "output_type": "stream",
     "text": [
      "Columns in posts table:\n",
      "id, created_at, updated_at, uploader_id, score, source, md5, rating, image_width, image_height, file_ext, parent_id, has_children, file_size, up_score, down_score, is_pending, is_flagged, is_deleted, is_banned, pixiv_id, bit_flags, file_url, scraped_at\n"
     ]
    }
   ],
   "source": [
    "print(\"Columns in posts table:\")\n",
    "print(reduce(list_to_string, (x[0] for x in posts_columns)))"
   ]
  },
  {
   "cell_type": "markdown",
   "metadata": {},
   "source": [
    "## Scores\n",
    "\n",
    "First let's take a look at the ratings users can give to images. This is just for warming up since this is a feature that's not so much used on Danbooru."
   ]
  },
  {
   "cell_type": "code",
   "execution_count": 10,
   "metadata": {},
   "outputs": [
    {
     "name": "stdout",
     "output_type": "stream",
     "text": [
      "256 rows affected.\n"
     ]
    }
   ],
   "source": [
    "scores = %sql SELECT score, COUNT(*) FROM posts GROUP BY score ORDER BY score DESC"
   ]
  },
  {
   "cell_type": "code",
   "execution_count": 11,
   "metadata": {},
   "outputs": [
    {
     "name": "stdout",
     "output_type": "stream",
     "text": [
      "1 rows affected.\n"
     ]
    }
   ],
   "source": [
    "worst_post = %sql SELECT id FROM posts WHERE score = (SELECT MIN(score) FROM posts)"
   ]
  },
  {
   "cell_type": "code",
   "execution_count": 12,
   "metadata": {},
   "outputs": [
    {
     "name": "stdout",
     "output_type": "stream",
     "text": [
      "1 rows affected.\n"
     ]
    }
   ],
   "source": [
    "best_post = %sql SELECT id FROM posts WHERE score = (SELECT MAX(score) FROM posts)"
   ]
  },
  {
   "cell_type": "code",
   "execution_count": 13,
   "metadata": {},
   "outputs": [
    {
     "data": {
      "text/plain": [
       "Text(0.5,1,'Post score distribution')"
      ]
     },
     "execution_count": 13,
     "metadata": {},
     "output_type": "execute_result"
    },
    {
     "data": {
      "image/png": "[encoded data removed]",
      "text/plain": [
       "<matplotlib.figure.Figure at 0x7f197ae67710>"
      ]
     },
     "metadata": {},
     "output_type": "display_data"
    }
   ],
   "source": [
    "pd_count = scores.DataFrame()[\"count\"]\n",
    "pd_count.index = scores.DataFrame()[\"score\"]\n",
    "pd_count.plot(logy=True)\n",
    "plt.ylabel(\"count\")\n",
    "plt.title(\"Post score distribution\")"
   ]
  },
  {
   "cell_type": "markdown",
   "metadata": {},
   "source": [
    "## Status\n",
    "\n",
    "Now we take a look at the status of the posts since we'll most likely not use deleted or banned posts. We have the following categories:\n",
    "\n",
    "`is_pending, is_flagged, is_deleted, is_banned`"
   ]
  },
  {
   "cell_type": "code",
   "execution_count": 14,
   "metadata": {},
   "outputs": [
    {
     "name": "stdout",
     "output_type": "stream",
     "text": [
      "0 rows affected.\n",
      "31 rows affected.\n",
      "158705 rows affected.\n",
      "14648 rows affected.\n"
     ]
    }
   ],
   "source": [
    "pending_posts = %sql SELECT id FROM posts WHERE is_pending = true\n",
    "flagged_posts = %sql SELECT id FROM posts WHERE is_flagged = true\n",
    "deleted_posts = %sql SELECT id FROM posts WHERE is_deleted = true\n",
    "banned_posts = %sql SELECT id FROM posts WHERE is_banned = true"
   ]
  },
  {
   "cell_type": "code",
   "execution_count": 15,
   "metadata": {},
   "outputs": [],
   "source": [
    "def single_column_to_set(column):\n",
    "    return set(idx[0] for idx in column)\n",
    "posts_with_status = map(single_column_to_set, (pending_posts, flagged_posts, deleted_posts, banned_posts))\n",
    "posts_with_status = list(posts_with_status)"
   ]
  },
  {
   "cell_type": "code",
   "execution_count": 16,
   "metadata": {},
   "outputs": [],
   "source": [
    "post_flag_count = np.array(list(map(len, posts_with_status)))\n",
    "post_flag_count_log = post_flag_count.copy()\n",
    "post_flag_count_log[post_flag_count == 0] = 1\n",
    "post_flag_count_log = np.log10(post_flag_count_log)"
   ]
  },
  {
   "cell_type": "code",
   "execution_count": 17,
   "metadata": {},
   "outputs": [
    {
     "data": {
      "text/plain": [
       "Text(0.5,1,'Post status distribution')"
      ]
     },
     "execution_count": 17,
     "metadata": {},
     "output_type": "execute_result"
    },
    {
     "data": {
      "image/png": "[encoded data removed]",
      "text/plain": [
       "<matplotlib.figure.Figure at 0x7f1937ac6eb8>"
      ]
     },
     "metadata": {},
     "output_type": "display_data"
    }
   ],
   "source": [
    "rects = plt.bar(range(4), post_flag_count_log)\n",
    "plt.xticks(range(4), [\"pending\", \"flagged\", \"deleted\", \"banned\"])\n",
    "for idx, rect in enumerate(rects):\n",
    "    height = rect.get_height()\n",
    "    width = rect.get_width()\n",
    "    plt.text(rect.get_x() + width / 2, height, post_flag_count[idx], va=\"bottom\", ha=\"center\")\n",
    "plt.ylabel(\"count\")\n",
    "yticks = plt.yticks()[0][1:-1]\n",
    "plt.yticks(yticks, map(lambda x: \"$10^{:d}$\".format(int(x)), yticks))\n",
    "plt.title(\"Post status distribution\")"
   ]
  },
  {
   "cell_type": "code",
   "execution_count": 18,
   "metadata": {},
   "outputs": [
    {
     "name": "stdout",
     "output_type": "stream",
     "text": [
      "There is a small intersection of deleted and banned posts: 281\n",
      "What is even the difference between these two?\n"
     ]
    }
   ],
   "source": [
    "print(\"There is a small intersection of deleted and banned posts: %d\" % len(posts_with_status[2] & posts_with_status[3]))\n",
    "print(\"What is even the difference between these two?\")"
   ]
  },
  {
   "cell_type": "markdown",
   "metadata": {},
   "source": [
    "Wow, there are a lot of deleted posts. I think I need to check them out manually and their reason for deletion.\n",
    "\n",
    "But first create a view `filtered_posts` where flagged posts are removed. Furthermore remove children and remove posts where the aspect ration is not in 1:2 to 2:1."
   ]
  },
  {
   "cell_type": "code",
   "execution_count": 19,
   "metadata": {},
   "outputs": [
    {
     "name": "stdout",
     "output_type": "stream",
     "text": [
      "Done.\n"
     ]
    },
    {
     "data": {
      "text/plain": [
       "[]"
      ]
     },
     "execution_count": 19,
     "metadata": {},
     "output_type": "execute_result"
    }
   ],
   "source": [
    "%%sql\n",
    "CREATE OR REPLACE TEMPORARY VIEW filtered_posts AS\n",
    "    (SELECT * FROM posts\n",
    "     WHERE is_pending = false\n",
    "     AND is_flagged = false\n",
    "     AND is_deleted = false\n",
    "     AND is_banned = false\n",
    "     AND parent_id = 0\n",
    "     AND image_width > 0 AND image_height > 0\n",
    "     AND cast(image_width as double precision) / cast(image_height as double precision) BETWEEN 0.5 AND 2.0)"
   ]
  },
  {
   "cell_type": "code",
   "execution_count": 20,
   "metadata": {},
   "outputs": [
    {
     "name": "stdout",
     "output_type": "stream",
     "text": [
      "1 rows affected.\n"
     ]
    }
   ],
   "source": [
    "filtered_count = %sql SELECT COUNT(*) FROM filtered_posts"
   ]
  },
  {
   "cell_type": "code",
   "execution_count": 21,
   "metadata": {},
   "outputs": [
    {
     "name": "stdout",
     "output_type": "stream",
     "text": [
      "8 rows affected.\n"
     ]
    }
   ],
   "source": [
    "filtered_ext = %sql SELECT DISTINCT file_ext FROM filtered_posts"
   ]
  },
  {
   "cell_type": "code",
   "execution_count": 22,
   "metadata": {},
   "outputs": [
    {
     "name": "stdout",
     "output_type": "stream",
     "text": [
      "Now after filtering we have 2322026 posts left with the following file extensions:\n",
      "gif, jpeg, jpg, mp4, png, swf, webm, zip\n"
     ]
    }
   ],
   "source": [
    "print(\"Now after filtering we have %d posts left with the following file extensions:\" % filtered_count[0][0])\n",
    "print(reduce(list_to_string, (x[0] for x in filtered_ext)))"
   ]
  },
  {
   "cell_type": "code",
   "execution_count": 23,
   "metadata": {},
   "outputs": [
    {
     "name": "stdout",
     "output_type": "stream",
     "text": [
      "Done.\n"
     ]
    },
    {
     "data": {
      "text/plain": [
       "[]"
      ]
     },
     "execution_count": 23,
     "metadata": {},
     "output_type": "execute_result"
    }
   ],
   "source": [
    "%%sql\n",
    "CREATE OR REPLACE TEMPORARY VIEW filtered_images AS\n",
    "    (SELECT * FROM filtered_posts\n",
    "     WHERE file_ext = 'jpeg'\n",
    "     OR file_ext = 'jpg'\n",
    "     OR file_ext = 'png')"
   ]
  },
  {
   "cell_type": "code",
   "execution_count": 24,
   "metadata": {},
   "outputs": [
    {
     "name": "stdout",
     "output_type": "stream",
     "text": [
      "1 rows affected.\n"
     ]
    },
    {
     "data": {
      "text/html": [
       "<table>\n",
       "    <tr>\n",
       "        <th>count</th>\n",
       "    </tr>\n",
       "    <tr>\n",
       "        <td>2301782</td>\n",
       "    </tr>\n",
       "</table>"
      ],
      "text/plain": [
       "[(2301782,)]"
      ]
     },
     "execution_count": 24,
     "metadata": {},
     "output_type": "execute_result"
    }
   ],
   "source": [
    "%sql SELECT COUNT(*) FROM filtered_images"
   ]
  },
  {
   "cell_type": "markdown",
   "metadata": {},
   "source": [
    "## How much tags\n",
    "\n",
    "This is the first interesting thing."
   ]
  },
  {
   "cell_type": "code",
   "execution_count": 25,
   "metadata": {},
   "outputs": [
    {
     "name": "stdout",
     "output_type": "stream",
     "text": [
      "Done.\n"
     ]
    },
    {
     "data": {
      "text/plain": [
       "[]"
      ]
     },
     "execution_count": 25,
     "metadata": {},
     "output_type": "execute_result"
    }
   ],
   "source": [
    "%%sql \n",
    "CREATE OR REPLACE TEMPORARY VIEW filtered_tags AS\n",
    "    (SELECT tags.name, tag_count.count, tags.category\n",
    "    FROM\n",
    "        (SELECT tag_id, COUNT(post_id)\n",
    "         FROM tagged INNER JOIN filtered_images ON filtered_images.id = tagged.post_id\n",
    "         GROUP BY tag_id) tag_count\n",
    "    INNER JOIN\n",
    "        tags ON tags.id = tag_count.tag_id\n",
    "    ORDER BY tag_count.count DESC)"
   ]
  },
  {
   "cell_type": "markdown",
   "metadata": {},
   "source": [
    "### Tags in general"
   ]
  },
  {
   "cell_type": "code",
   "execution_count": 26,
   "metadata": {},
   "outputs": [
    {
     "name": "stdout",
     "output_type": "stream",
     "text": [
      "1000 rows affected.\n"
     ]
    }
   ],
   "source": [
    "tag_count = %sql SELECT * FROM filtered_tags LIMIT 1000"
   ]
  },
  {
   "cell_type": "code",
   "execution_count": 27,
   "metadata": {},
   "outputs": [],
   "source": [
    "def list_count(most_popular_tags):\n",
    "    pop_tag_number = len(most_popular_tags)\n",
    "    rank_range = list(range(1, pop_tag_number + 1))\n",
    "    pop_tag_number_length = len(str(pop_tag_number))\n",
    "    formatter = \"{: <30}│{: >10}│{: >9}\"\n",
    "    formatter = \"{: >%d}  \" % (pop_tag_number_length) + formatter\n",
    "    print(formatter.format(\"RANK\", \"NAME\", \"COUNT\", \"CATEGORY\"))\n",
    "    print(\"─\" * (pop_tag_number_length + 2) + \"──────────────────────────────┼──────────┼─────────\")\n",
    "    for rank, (name, count, category) in zip(rank_range, most_popular_tags):\n",
    "        print(formatter.format(rank, name, count, category))"
   ]
  },
  {
   "cell_type": "code",
   "execution_count": 28,
   "metadata": {},
   "outputs": [
    {
     "name": "stdout",
     "output_type": "stream",
     "text": [
      "RANK  NAME                          │     COUNT│ CATEGORY\n",
      "────────────────────────────────────┼──────────┼─────────\n",
      "   1  1girl                         │   1609369│        g\n",
      "   2  solo                          │   1364831│        g\n",
      "   3  long_hair                     │   1025820│        g\n",
      "   4  blush                         │    650716│        g\n",
      "   5  breasts                       │    650540│        g\n",
      "   6  short_hair                    │    643374│        g\n",
      "   7  smile                         │    629055│        g\n",
      "   8  multiple_girls                │    505082│        g\n",
      "   9  open_mouth                    │    496736│        g\n",
      "  10  looking_at_viewer             │    476053│        g\n",
      "  11  touhou                        │    464306│        y\n",
      "  12  blue_eyes                     │    459524│        g\n",
      "  13  blonde_hair                   │    456729│        g\n",
      "  14  brown_hair                    │    424789│        g\n",
      "  15  skirt                         │    405772│        g\n",
      "  16  hat                           │    380180│        g\n",
      "  17  thighhighs                    │    361001│        g\n",
      "  18  red_eyes                      │    351066│        g\n",
      "  19  black_hair                    │    350624│        g\n",
      "  20  2girls                        │    330286│        g\n",
      "  21  large_breasts                 │    322544│        g\n",
      "  22  ribbon                        │    303448│        g\n",
      "  23  dress                         │    282500│        g\n",
      "  24  gloves                        │    281186│        g\n",
      "  25  hair_ornament                 │    278545│        g\n",
      "  26  1boy                          │    270801│        g\n",
      "  27  bow                           │    270361│        g\n",
      "  28  original                      │    267941│        y\n",
      "  29  brown_eyes                    │    265611│        g\n",
      "  30  school_uniform                │    262589│        g\n",
      "  31  twintails                     │    261317│        g\n",
      "  32  simple_background             │    240851│        g\n",
      "  33  underwear                     │    238663│        g\n",
      "  34  green_eyes                    │    225393│        g\n",
      "  35  monochrome                    │    221077│        g\n",
      "  36  blue_hair                     │    217558│        g\n",
      "  37  navel                         │    215393│        g\n",
      "  38  sitting                       │    213653│        g\n",
      "  39  animal_ears                   │    206327│        g\n",
      "  40  panties                       │    206221│        g\n",
      "  41  kantai_collection             │    204176│        y\n",
      "  42  medium_breasts                │    202630│        g\n",
      "  43  cleavage                      │    197364│        g\n",
      "  44  white_background              │    189414│        g\n",
      "  45  highres                       │    189066│        g\n",
      "  46  shirt                         │    185435│        g\n",
      "  47  bad_id                        │    181822│        g\n",
      "  48  bad_pixiv_id                  │    180756│        g\n",
      "  49  weapon                        │    177414│        g\n",
      "  50  purple_eyes                   │    174529│        g\n",
      "  51  jewelry                       │    173762│        g\n",
      "  52  long_sleeves                  │    171054│        g\n",
      "  53  hair_ribbon                   │    168986│        g\n",
      "  54  very_long_hair                │    168557│        g\n",
      "  55  closed_eyes                   │    167930│        g\n",
      "  56  bare_shoulders                │    162657│        g\n",
      "  57  nipples                       │    161489│        g\n",
      "  58  comic                         │    160277│        g\n",
      "  59  ponytail                      │    156833│        g\n",
      "  60  purple_hair                   │    155290│        g\n",
      "  61  bangs                         │    154947│        g\n",
      "  62  greyscale                     │    152365│        g\n",
      "  63  pink_hair                     │    151614│        g\n",
      "  64  black_legwear                 │    149579│        g\n",
      "  65  yellow_eyes                   │    148332│        g\n",
      "  66  hair_bow                      │    143369│        g\n",
      "  67  tail                          │    141136│        g\n",
      "  68  flower                        │    139682│        g\n",
      "  69  silver_hair                   │    139030│        g\n",
      "  70  swimsuit                      │    133576│        g\n",
      "  71  wings                         │    132684│        g\n",
      "  72  hairband                      │    129355│        g\n",
      "  73  braid                         │    128710│        g\n",
      "  74  ass                           │    128575│        g\n",
      "  75  red_hair                      │    125704│        g\n",
      "  76  pantyhose                     │    125629│        g\n",
      "  77  boots                         │    124530│        g\n",
      "  78  green_hair                    │    124409│        g\n",
      "  79  glasses                       │    116969│        g\n",
      "  80  ahoge                         │    116472│        g\n",
      "  81  serafuku                      │    116173│        g\n",
      "  82  japanese_clothes              │    114895│        g\n",
      "  83  one_eye_closed                │    113067│        g\n",
      "  84  detached_sleeves              │    112215│        g\n",
      "  85  :d                            │    110341│        g\n",
      "  86  male_focus                    │    109209│        g\n",
      "  87  food                          │    108360│        g\n",
      "  88  heart                         │    106793│        g\n",
      "  89  holding                       │    104385│        g\n",
      "  90  multiple_boys                 │    103724│        g\n",
      "  91  nude                          │    102423│        g\n",
      "  92  necktie                       │    100790│        g\n",
      "  93  full_body                     │    100349│        g\n",
      "  94  standing                      │     99706│        g\n",
      "  95  barefoot                      │     99469│        g\n",
      "  96  lying                         │     95184│        g\n",
      "  97  collarbone                    │     91435│        g\n",
      "  98  bikini                        │     90797│        g\n",
      "  99  sword                         │     89822│        g\n",
      " 100  shoes                         │     89140│        g\n",
      " 101  pleated_skirt                 │     88233│        g\n",
      " 102  white_hair                    │     86790│        g\n",
      " 103  jacket                        │     86691│        g\n",
      " 104  tears                         │     86514│        g\n",
      " 105  upper_body                    │     83922│        g\n",
      " 106  midriff                       │     83473│        g\n",
      " 107  sweat                         │     83353│        g\n",
      " 108  small_breasts                 │     82950│        g\n",
      " 109  striped                       │     82632│        g\n",
      " 110  sky                           │     82623│        g\n",
      " 111  elbow_gloves                  │     81333│        g\n",
      " 112  short_sleeves                 │     81249│        g\n",
      " 113  3girls                        │     81219│        g\n",
      " 114  white_legwear                 │     79314│        g\n",
      " 115  censored                      │     79003│        g\n",
      " 116  eyebrows_visible_through_hair │     78545│        g\n",
      " 117  frills                        │     76783│        g\n",
      " 118  looking_back                  │     74768│        g\n",
      " 119  earrings                      │     74566│        g\n",
      " 120  fang                          │     72307│        g\n",
      " 121  vocaloid                      │     70252│        y\n",
      " 122  alternate_costume             │     69679│        g\n",
      " 123  pointy_ears                   │     69639│        g\n",
      " 124  open_clothes                  │     69330│        g\n",
      " 125  idolmaster                    │     68882│        y\n",
      " 126  cat_ears                      │     68386│        g\n",
      " 127  hair_between_eyes             │     68278│        g\n",
      " 128  hairclip                      │     67925│        g\n",
      " 129  day                           │     67630│        g\n",
      " 130  shorts                        │     67457│        g\n",
      " 131  pussy                         │     66401│        g\n",
      " 132  penis                         │     66345│        g\n",
      " 133  translated                    │     65338│        g\n",
      " 134  2boys                         │     63857│        g\n",
      " 135  cloud                         │     63043│        g\n",
      " 136  fate_(series)                 │     62834│        y\n",
      " 137  chibi                         │     62808│        g\n",
      " 138  tongue                        │     62729│        g\n",
      " 139  choker                        │     62716│        g\n",
      " 140  solo_focus                    │     61964│        g\n",
      " 141  belt                          │     60721│        g\n",
      " 142  pink_eyes                     │     60152│        g\n",
      " 143  cowboy_shot                   │     59634│        g\n",
      " 144  scarf                         │     59108│        g\n",
      " 145  artist_request                │     58232│        g\n",
      " 146  yuri                          │     57688│        g\n",
      " 147  hetero                        │     57650│        g\n",
      " 148  horns                         │     57027│        g\n",
      " 149  fingerless_gloves             │     56961│        g\n",
      " 150  flat_chest                    │     56649│        g\n",
      " 151  cape                          │     56366│        g\n",
      " 152  side_ponytail                 │     56201│        g\n",
      " 153  uniform                       │     56070│        g\n",
      " 154  sketch                        │     55857│        g\n",
      " 155  zettai_ryouiki                │     55295│        g\n",
      " 156  puffy_sleeves                 │     54292│        g\n",
      " 157  star                          │     54129│        g\n",
      " 158  closed_mouth                  │     54068│        g\n",
      " 159  socks                         │     53244│        g\n",
      " 160  kimono                        │     52918│        g\n",
      " 161  hair_flower                   │     52414│        g\n",
      " 162  white_panties                 │     52344│        g\n",
      " 163  aqua_eyes                     │     52261│        g\n",
      " 164  water                         │     52242│        g\n",
      " 165  black_eyes                    │     51674│        g\n",
      " 166  multicolored_hair             │     51276│        g\n",
      " 167  twin_braids                   │     51209│        g\n",
      " 168  armor                         │     50628│        g\n",
      " 169  character_name                │     50204│        g\n",
      " 170  cum                           │     50181│        g\n",
      " 171  parted_lips                   │     49758│        g\n",
      " 172  outdoors                      │     49724│        g\n",
      " 173  white_gloves                  │     48543│        g\n",
      " 174  sidelocks                     │     48387│        g\n",
      " 175  :o                            │     48185│        g\n",
      " 176  spread_legs                   │     48045│        g\n",
      " 177  orange_hair                   │     47500│        g\n",
      " 178  hatsune_miku                  │     46602│        c\n",
      " 179  thighs                        │     46527│        g\n",
      " 180  sleeveless                    │     46376│        g\n",
      " 181  bag                           │     46104│        g\n",
      " 182  bunny_ears                    │     45510│        g\n",
      " 183  armpits                       │     45110│        g\n",
      " 184  wide_sleeves                  │     44993│        g\n",
      " 185  sweatdrop                     │     44931│        g\n",
      " 186  bra                           │     44804│        g\n",
      " 187  huge_breasts                  │     44744│        g\n",
      " 188  necklace                      │     44431│        g\n",
      " 189  apron                         │     44201│        g\n",
      " 190  copyright_request             │     44037│        g\n",
      " 191  grin                          │     44033│        g\n",
      " 192  on_back                       │     43889│        g\n",
      " 193  teeth                         │     43215│        g\n",
      " 194  feet                          │     43201│        g\n",
      " 195  miniskirt                     │     43090│        g\n",
      " 196  from_behind                   │     42645│        g\n",
      " 197  covered_nipples               │     42287│        g\n",
      " 198  hood                          │     42176│        g\n",
      " 199  book                          │     41884│        g\n",
      " 200  tongue_out                    │     41817│        g\n",
      " 201  vest                          │     41207│        g\n",
      " 202  sex                           │     41054│        g\n",
      " 203  artist_name                   │     41046│        g\n",
      " 204  mahou_shoujo_madoka_magica    │     40811│        y\n",
      " 205  military                      │     40420│        g\n",
      " 206  hug                           │     40144│        g\n",
      " 207  hakurei_reimu                 │     39960│        c\n",
      " 208  aqua_hair                     │     39279│        g\n",
      " 209  dark_skin                     │     39236│        g\n",
      " 210  lips                          │     39100│        g\n",
      " 211  maid                          │     38826│        g\n",
      " 212  legs                          │     38675│        g\n",
      " 213  kirisame_marisa               │     38528│        c\n",
      " 214  white_shirt                   │     38370│        g\n",
      " 215  4girls                        │     38349│        g\n",
      " 216  gun                           │     38142│        g\n",
      " 217  tree                          │     38137│        g\n",
      " 218  bracelet                      │     38114│        g\n",
      " 219  grey_hair                     │     38051│        g\n",
      " 220  black_gloves                  │     38046│        g\n",
      " 221  idolmaster_cinderella_girls   │     37928│        y\n",
      " 222  kneehighs                     │     37084│        g\n",
      " 223  lowres                        │     36928│        g\n",
      " 224  two_side_up                   │     36824│        g\n",
      " 225  open_shirt                    │     36512│        g\n",
      " 226  cat_tail                      │     36025│        g\n",
      " 227  pants                         │     35995│        g\n",
      " 228  cosplay                       │     35835│        g\n",
      " 229  hair_over_one_eye             │     35682│        g\n",
      " 230  dated                         │     35407│        g\n",
      " 231  petals                        │     35225│        g\n",
      " 232  absurdres                     │     35164│        g\n",
      " 233  magical_girl                  │     35050│        g\n",
      " 234  signature                     │     35020│        g\n",
      " 235  high_heels                    │     34991│        g\n",
      " 236  shiny                         │     34863│        g\n",
      " 237  kneeling                      │     34784│        g\n",
      " 238  military_uniform              │     34752│        g\n",
      " 239  blunt_bangs                   │     34641│        g\n",
      " 240  pokemon                       │     34554│        y\n",
      " 241  one-piece_swimsuit            │     33873│        g\n",
      " 242  ascot                         │     33864│        g\n",
      " 243  plaid                         │     33782│        g\n",
      " 244  wrist_cuffs                   │     33734│        g\n",
      " 245  bowtie                        │     33017│        g\n",
      " 246  dutch_angle                   │     32955│        g\n",
      " 247  witch_hat                     │     32800│        g\n",
      " 248  vaginal                       │     32168│        g\n",
      " 249  arms_up                       │     32076│        g\n",
      " 250  fruit                         │     32064│        g\n",
      " 251  blood                         │     32027│        g\n",
      " 252  collar                        │     31611│        g\n",
      " 253  loli                          │     31575│        g\n",
      " 254  pantyshot                     │     31567│        g\n",
      " 255  siblings                      │     31403│        g\n",
      " 256  hand_on_hip                   │     31391│        g\n",
      " 257  nail_polish                   │     31365│        g\n",
      " 258  traditional_media             │     31331│        g\n",
      " 259  maid_headdress                │     31322│        g\n",
      " 260  no_bra                        │     31170│        g\n",
      " 261  headphones                    │     31150│        g\n",
      " 262  sash                          │     30978│        g\n",
      " 263  6+girls                       │     30822│        g\n",
      " 264  eyebrows                      │     30796│        g\n",
      " 265  no_panties                    │     30793│        g\n",
      " 266  sweater                       │     30714│        g\n",
      " 267  wet                           │     30662│        g\n",
      " 268  torn_clothes                  │     29845│        g\n",
      " 269  remilia_scarlet               │     29390│        c\n",
      " 270  bed                           │     28907│        g\n",
      " 271  parody                        │     28817│        g\n",
      " 272  striped_legwear               │     28755│        g\n",
      " 273  cup                           │     28702│        g\n",
      " 274  twitter_username              │     28625│        g\n",
      " 275  holding_hands                 │     28438│        g\n",
      " 276  hair_tubes                    │     28399│        g\n",
      " 277  umbrella                      │     28245│        g\n",
      " 278  copyright_name                │     28115│        g\n",
      " 279  alternate_hairstyle           │     28033│        g\n",
      " 280  headband                      │     27958│        g\n",
      " 281  pillow                        │     27938│        g\n",
      " 282  looking_at_another            │     27810│        g\n",
      " 283  ^_^                           │     27800│        g\n",
      " 284  underboob                     │     27736│        g\n",
      " 285  bottomless                    │     27550│        g\n",
      " 286  izayoi_sakuya                 │     27382│        c\n",
      " 287  mole                          │     27334│        g\n",
      " 288  single_braid                  │     27283│        g\n",
      " 289  sailor_collar                 │     27222│        g\n",
      " 290  drill_hair                    │     27206│        g\n",
      " 291  no_humans                     │     27204│        g\n",
      " 292  orange_eyes                   │     27172│        g\n",
      " 293  precure                       │     26821│        y\n",
      " 294  bodysuit                      │     26757│        g\n",
      " 295  headgear                      │     26693│        g\n",
      " 296  sideboob                      │     26683│        g\n",
      " 297  white_dress                   │     26517│        g\n",
      " 298  :3                            │     26465│        g\n",
      " 299  arm_up                        │     26432│        g\n",
      " 300  bat_wings                     │     26356│        g\n",
      " 301  v                             │     26296│        g\n",
      " 302  saliva                        │     26272│        g\n",
      " 303  off_shoulder                  │     26017│        g\n",
      " 304  capelet                       │     25922│        g\n",
      " 305  mosaic_censoring              │     25905│        g\n",
      " 306  chain                         │     25891│        g\n",
      " 307  flandre_scarlet               │     25841│        c\n",
      " 308  indoors                       │     25794│        g\n",
      " 309  moon                          │     25719│        g\n",
      " 310  translation_request           │     25536│        g\n",
      " 311  double_bun                    │     25379│        g\n",
      " 312  neckerchief                   │     25372│        g\n",
      " 313  rose                          │     25357│        g\n",
      " 314  see-through                   │     25348│        g\n",
      " 315  cover                         │     25325│        g\n",
      " 316  school_swimsuit               │     25183│        g\n",
      " 317  groin                         │     25141│        g\n",
      " 318  from_side                     │     24976│        g\n",
      " 319  lingerie                      │     24952│        g\n",
      " 320  profile                       │     24938│        g\n",
      " 321  eyepatch                      │     24818│        g\n",
      " 322  glowing                       │     24813│        g\n",
      " 323  idolmaster_(classic)          │     24559│        y\n",
      " 324  wariza                        │     24378│        g\n",
      " 325  pussy_juice                   │     24312│        g\n",
      " 326  jojo_no_kimyou_na_bouken      │     24282│        y\n",
      " 327  puffy_short_sleeves           │     24170│        g\n",
      " 328  pubic_hair                    │     24153│        g\n",
      " 329  thigh_boots                   │     24113│        g\n",
      " 330  mouth_hold                    │     24068│        g\n",
      " 331  black_panties                 │     24041│        g\n",
      " 332  topless                       │     23940│        g\n",
      " 333  cameltoe                      │     23861│        g\n",
      " 334  black_skirt                   │     23832│        g\n",
      " 335  shiny_skin                    │     23593│        g\n",
      " 336  english                       │     23484│        g\n",
      " 337  makeup                        │     23269│        g\n",
      " 338  mask                          │     23256│        g\n",
      " 339  hair_bobbles                  │     23199│        g\n",
      " 340  bird                          │     23143│        g\n",
      " 341  leotard                       │     23117│        g\n",
      " 342  fate/grand_order              │     23010│        y\n",
      " 343  sparkle                       │     22961│        g\n",
      " 344  night                         │     22864│        g\n",
      " 345  bell                          │     22795│        g\n",
      " 346  dress_shirt                   │     22650│        g\n",
      " 347  holding_weapon                │     22491│        g\n",
      " 348  love_live!                    │     22478│        y\n",
      " 349  face                          │     22471│        g\n",
      " 350  leaf                          │     22453│        g\n",
      " 351  hoodie                        │     22344│        g\n",
      " 352  blush_stickers                │     22338│        g\n",
      " 353  coat                          │     22266│        g\n",
      " 354  skirt_lift                    │     22026│        g\n",
      " 355  hat_ribbon                    │     21987│        g\n",
      " 356  eating                        │     21966│        g\n",
      " 357  pokemon_(game)                │     21926│        y\n",
      " 358  side-tie_bikini               │     21873│        g\n",
      " 359  v-shaped_eyebrows             │     21840│        g\n",
      " 360  couple                        │     21698│        g\n",
      " 361  striped_panties               │     21610│        g\n",
      " 362  turtleneck                    │     21483│        g\n",
      " 363  window                        │     21380│        g\n",
      " 364  alice_margatroid              │     21374│        c\n",
      " 365  cat                           │     21372│        g\n",
      " 366  bdsm                          │     21354│        g\n",
      " 367  plaid_skirt                   │     21283│        g\n",
      " 368  5girls                        │     21226│        g\n",
      " 369  eyelashes                     │     21116│        g\n",
      " 370  bare_legs                     │     21107│        g\n",
      " 371  shirt_lift                    │     21047│        g\n",
      " 372  bound                         │     21016│        g\n",
      " 373  black_dress                   │     20931│        g\n",
      " 374  patchouli_knowledge           │     20884│        c\n",
      " 375  symbol-shaped_pupils          │     20833│        g\n",
      " 376  head_tilt                     │     20726│        g\n",
      " 377  fox_ears                      │     20652│        g\n",
      " 378  short_twintails               │     20592│        g\n",
      " 379  arm_support                   │     20517│        g\n",
      " 380  leaning_forward               │     20463│        g\n",
      " 381  two-tone_hair                 │     20454│        g\n",
      " 382  formal                        │     20245│        g\n",
      " 383  fox_tail                      │     20242│        g\n",
      " 384  younger                       │     20239│        g\n",
      " 385  sleeping                      │     20230│        g\n",
      " 386  undressing                    │     20211│        g\n",
      " 387  katana                        │     20100│        g\n",
      " 388  underwear_only                │     19996│        g\n",
      " 389  blue_skirt                    │     19983│        g\n",
      " 390  crossed_arms                  │     19940│        g\n",
      " 391  bandages                      │     19904│        g\n",
      " 392  fate/stay_night               │     19792│        y\n",
      " 393  grey_eyes                     │     19724│        g\n",
      " 394  back                          │     19666│        g\n",
      " 395  skirt_set                     │     19624│        g\n",
      " 396  outstretched_arms             │     19543│        g\n",
      " 397  gradient                      │     19542│        g\n",
      " 398  blazer                        │     19361│        g\n",
      " 399  heterochromia                 │     19361│        g\n",
      " 400  crossover                     │     19329│        g\n",
      " 401  grabbing                      │     19296│        g\n",
      " 402  beret                         │     19250│        g\n",
      " 403  embarrassed                   │     19174│        g\n",
      " 404  knee_boots                    │     19055│        g\n",
      " 405  cirno                         │     19054│        c\n",
      " 406  frown                         │     19041│        g\n",
      " 407  from_above                    │     19022│        g\n",
      " 408  stuffed_toy                   │     18950│        g\n",
      " 409  tokin_hat                     │     18897│        g\n",
      " 410  sandals                       │     18894│        g\n",
      " 411  bondage                       │     18827│        g\n",
      " 412  wavy_mouth                    │     18799│        g\n",
      " 413  yakumo_yukari                 │     18781│        c\n",
      " 414  chinese_clothes               │     18773│        g\n",
      " 415  sisters                       │     18677│        g\n",
      " 416  kochiya_sanae                 │     18676│        c\n",
      " 417  love_live!_school_idol_project│     18627│        y\n",
      " 418  k-on!                         │     18618│        y\n",
      " 419  grey_background               │     18595│        g\n",
      " 420  garter_straps                 │     18590│        g\n",
      " 421  pokemon_(creature)            │     18484│        g\n",
      " 422  konpaku_youmu                 │     18455│        c\n",
      " 423  tattoo                        │     18413│        g\n",
      " 424  blue_sky                      │     18388│        g\n",
      " 425  collared_shirt                │     18337│        g\n",
      " 426  cum_in_pussy                  │     18295│        g\n",
      " 427  polearm                       │     18271│        g\n",
      " 428  light_smile                   │     18248│        g\n",
      " 429  chair                         │     18248│        g\n",
      " 430  on_side                       │     18210│        g\n",
      " 431  happy                         │     18204│        g\n",
      " 432  anus                          │     18102│        g\n",
      " 433  doujinshi                     │     17943│        g\n",
      " 434  wolf_ears                     │     17929│        g\n",
      " 435  arms_behind_back              │     17925│        g\n",
      " 436  red_bow                       │     17792│        g\n",
      " 437  ocean                         │     17754│        g\n",
      " 438  lipstick                      │     17725│        g\n",
      " 439  mob_cap                       │     17723│        g\n",
      " 440  animal                        │     17694│        g\n",
      " 441  fingernails                   │     17635│        g\n",
      " 442  obi                           │     17615│        g\n",
      " 443  genderswap                    │     17597│        g\n",
      " 444  areolae                       │     17509│        g\n",
      " 445  gradient_hair                 │     17480│        g\n",
      " 446  remodel_(kantai_collection)   │     17464│        g\n",
      " 447  blurry                        │     17457│        g\n",
      " 448  red_ribbon                    │     17381│        g\n",
      " 449  breast_grab                   │     17348│        g\n",
      " 450  suspenders                    │     17323│        g\n",
      " 451  gradient_background           │     17242│        g\n",
      " 452  facial_hair                   │     17241│        g\n",
      " 453  game_cg                       │     17202│        g\n",
      " 454  third_eye                     │     17156│        g\n",
      " 455  thigh_gap                     │     17118│        g\n",
      " 456  crescent                      │     17103│        g\n",
      " 457  expressionless                │     17089│        g\n",
      " 458  cover_page                    │     17070│        g\n",
      " 459  child                         │     16955│        g\n",
      " 460  casual                        │     16954│        g\n",
      " 461  short_shorts                  │     16930│        g\n",
      " 462  admiral_(kantai_collection)   │     16920│        c\n",
      " 463  stuffed_animal                │     16894│        g\n",
      " 464  akemi_homura                  │     16872│        c\n",
      " 465  panty_pull                    │     16856│        g\n",
      " 466  final_fantasy                 │     16809│        y\n",
      " 467  suit                          │     16780│        g\n",
      " 468  mole_under_eye                │     16778│        g\n",
      " 469  fangs                         │     16750│        g\n",
      " 470  ;d                            │     16748│        g\n",
      " 471  helmet                        │     16706│        g\n",
      " 472  speech_bubble                 │     16705│        g\n",
      " 473  beach                         │     16675│        g\n",
      " 474  bent_over                     │     16672│        g\n",
      " 475  official_art                  │     16585│        g\n",
      " 476  fire                          │     16567│        g\n",
      " 477  cherry_blossoms               │     16566│        g\n",
      " 478  shadow                        │     16535│        g\n",
      " 479  multiple_tails                │     16511│        g\n",
      " 480  knife                         │     16499│        g\n",
      " 481  crop_top                      │     16460│        g\n",
      " 482  lyrical_nanoha                │     16450│        y\n",
      " 483  bike_shorts                   │     16442│        g\n",
      " 484  3boys                         │     16428│        g\n",
      " 485  otoko_no_ko                   │     16391│        g\n",
      " 486  uncensored                    │     16383│        g\n",
      " 487  shinkaisei-kan                │     16354│        g\n",
      " 488  fujiwara_no_mokou             │     16324│        c\n",
      " 489  blue_dress                    │     16302│        g\n",
      " 490  >_<                           │     16259│        g\n",
      " 491  wind                          │     16250│        g\n",
      " 492  antenna_hair                  │     16231│        g\n",
      " 493  from_below                    │     16191│        g\n",
      " 494  wavy_hair                     │     16183│        g\n",
      " 495  polka_dot                     │     16179│        g\n",
      " 496  hands                         │     16178│        g\n",
      " 497  instrument                    │     16173│        g\n",
      " 498  scan                          │     16129│        g\n",
      " 499  staff                         │     16125│        g\n",
      " 500  red_neckwear                  │     16080│        g\n",
      " 501  gundam                        │     15928│        y\n",
      " 502  hong_meiling                  │     15677│        c\n",
      " 503  pointing                      │     15658│        g\n",
      " 504  black_footwear                │     15613│        g\n",
      " 505  backpack                      │     15589│        g\n",
      " 506  shameimaru_aya                │     15570│        c\n",
      " 507  crossed_legs                  │     15514│        g\n",
      " 508  toes                          │     15510│        g\n",
      " 509  oral                          │     15504│        g\n",
      " 510  facial_mark                   │     15479│        g\n",
      " 511  scar                          │     15454│        g\n",
      " 512  stomach                       │     15447│        g\n",
      " 513  letterboxed                   │     15350│        g\n",
      " 514  4koma                         │     15321│        g\n",
      " 515  head_wings                    │     15299│        g\n",
      " 516  text                          │     15270│        g\n",
      " 517  short_dress                   │     15258│        g\n",
      " 518  no_pants                      │     15253│        g\n",
      " 519  no_headwear                   │     15239│        g\n",
      " 520  kaname_madoka                 │     15211│        c\n",
      " 521  strapless                     │     15207│        g\n",
      " 522  flying_sweatdrops             │     15194│        g\n",
      " 523  :<                            │     15181│        g\n",
      " 524  suzumiya_haruhi_no_yuuutsu    │     15141│        y\n",
      " 525  checkered                     │     15133│        g\n",
      " 526  watermark                     │     15112│        g\n",
      " 527  looking_away                  │     14965│        g\n",
      " 528  convenient_censoring          │     14947│        g\n",
      " 529  fur_trim                      │     14884│        g\n",
      " 530  trembling                     │     14830│        g\n",
      " 531  sleeves_past_wrists           │     14802│        g\n",
      " 532  pink_panties                  │     14798│        g\n",
      " 533  nature                        │     14743│        g\n",
      " 534  monster_girl                  │     14707│        g\n",
      " 535  detached_collar               │     14630│        g\n",
      " 536  buttons                       │     14627│        g\n",
      " 537  cum_on_body                   │     14614│        g\n",
      " 538  sunlight                      │     14606│        g\n",
      " 539  /\\/\\/\\                        │     14530│        g\n",
      " 540  world_witches_series          │     14517│        y\n",
      " 541  cleavage_cutout               │     14494│        g\n",
      " 542  feathers                      │     14491│        g\n",
      " 543  kiss                          │     14490│        g\n",
      " 544  looking_to_the_side           │     14481│        g\n",
      " 545  covering                      │     14430│        g\n",
      " 546  table                         │     14354│        g\n",
      " 547  no_hat                        │     14347│        g\n",
      " 548  depth_of_field                │     14339│        g\n",
      " 549  reisen_udongein_inaba         │     14323│        c\n",
      " 550  foreshortening                │     14322│        g\n",
      " 551  gauntlets                     │     14283│        g\n",
      " 552  upskirt                       │     14257│        g\n",
      " 553  outstretched_arm              │     14198│        g\n",
      " 554  surprised                     │     14195│        g\n",
      " 555  bed_sheet                     │     14158│        g\n",
      " 556  ground_vehicle                │     14138│        g\n",
      " 557  komeiji_koishi                │     14134│        c\n",
      " 558  grass                         │     14107│        g\n",
      " 559  fan                           │     14100│        g\n",
      " 560  side-tie_panties              │     14095│        g\n",
      " 561  tan                           │     14063│        g\n",
      " 562  squatting                     │     13952│        g\n",
      " 563  girls_und_panzer              │     13946│        y\n",
      " 564  goggles                       │     13890│        g\n",
      " 565  pink_bow                      │     13865│        g\n",
      " 566  broom                         │     13835│        g\n",
      " 567  all_fours                     │     13824│        g\n",
      " 568  butterfly                     │     13767│        g\n",
      " 569  mary_janes                    │     13741│        g\n",
      " 570  microphone                    │     13741│        g\n",
      " 571  blouse                        │     13632│        g\n",
      " 572  red_skirt                     │     13574│        g\n",
      " 573  towel                         │     13542│        g\n",
      " 574  adapted_costume               │     13540│        g\n",
      " 575  full_moon                     │     13504│        g\n",
      " 576  pale_skin                     │     13492│        g\n",
      " 577  genderswap_(mtf)              │     13460│        g\n",
      " 578  twin_drills                   │     13457│        g\n",
      " 579  musical_note                  │     13457│        g\n",
      " 580  on_stomach                    │     13409│        g\n",
      " 581  phone                         │     13406│        g\n",
      " 582  breast_press                  │     13404│        g\n",
      " 583  denim                         │     13400│        g\n",
      " 584  looking_up                    │     13385│        g\n",
      " 585  bottle                        │     13368│        g\n",
      " 586  bunnysuit                     │     13344│        g\n",
      " 587  plant                         │     13317│        g\n",
      " 588  pov                           │     13312│        g\n",
      " 589  thigh_strap                   │     13309│        g\n",
      " 590  saigyouji_yuyuko              │     13294│        c\n",
      " 591  lace                          │     13272│        g\n",
      " 592  crown                         │     13257│        g\n",
      " 593  floral_print                  │     13230│        g\n",
      " 594  inubashiri_momiji             │     13204│        c\n",
      " 595  blue_background               │     13172│        g\n",
      " 596  crying                        │     13164│        g\n",
      " 597  cardigan                      │     13132│        g\n",
      " 598  persona                       │     13100│        y\n",
      " 599  artoria_pendragon_(all)       │     13053│        c\n",
      " 600  cross                         │     13005│        g\n",
      " 601  dual_persona                  │     12999│        g\n",
      " 602  granblue_fantasy              │     12975│        y\n",
      " 603  low_twintails                 │     12963│        g\n",
      " 604  komeiji_satori                │     12938│        c\n",
      " 605  peaked_cap                    │     12927│        g\n",
      " 606  covered_navel                 │     12920│        g\n",
      " 607  bikini_top                    │     12806│        g\n",
      " 608  hair_bun                      │     12790│        g\n",
      " 609  angry                         │     12711│        g\n",
      " 610  hat_bow                       │     12661│        g\n",
      " 611  sheath                        │     12624│        g\n",
      " 612  ring                          │     12582│        g\n",
      " 613  looking_down                  │     12441│        g\n",
      " 614  red_dress                     │     12407│        g\n",
      " 615  skindentation                 │     12398│        g\n",
      " 616  muscle                        │     12354│        g\n",
      " 617  fellatio                      │     12352│        g\n",
      " 618  parted_bangs                  │     12344│        g\n",
      " 619  carrying                      │     12339│        g\n",
      " 620  mecha                         │     12276│        g\n",
      " 621  tank_top                      │     12272│        g\n",
      " 622  neon_genesis_evangelion       │     12256│        y\n",
      " 623  kemonomimi_mode               │     12239│        g\n",
      " 624  machinery                     │     12231│        g\n",
      " 625  between_breasts               │     12223│        g\n",
      " 626  loafers                       │     12179│        g\n",
      " 627  shaded_face                   │     12140│        g\n",
      " 628  scrunchie                     │     12135│        g\n",
      " 629  fire_emblem                   │     12096│        y\n",
      " 630  miki_sayaka                   │     12041│        c\n",
      " 631  pink_background               │     12025│        g\n",
      " 632  lavender_hair                 │     12016│        g\n",
      " 633  soles                         │     11965│        g\n",
      " 634  heart-shaped_pupils           │     11960│        g\n",
      " 635  demon_girl                    │     11940│        g\n",
      " 636  halterneck                    │     11896│        g\n",
      " 637  personification               │     11878│        g\n",
      " 638  slit_pupils                   │     11872│        g\n",
      " 639  bob_cut                       │     11869│        g\n",
      " 640  front-tie_top                 │     11860│        g\n",
      " 641  horn                          │     11857│        g\n",
      " 642  sleeveless_dress              │     11849│        g\n",
      " 643  open_jacket                   │     11823│        g\n",
      " 644  headset                       │     11791│        g\n",
      " 645  to_aru_majutsu_no_index       │     11772│        y\n",
      " 646  tiara                         │     11770│        g\n",
      " 647  one_side_up                   │     11761│        g\n",
      " 648  wallpaper                     │     11721│        g\n",
      " 649  multiple_views                │     11687│        g\n",
      " 650  glowing_eyes                  │     11648│        g\n",
      " 651  cellphone                     │     11620│        g\n",
      " 652  snow                          │     11617│        g\n",
      " 653  christmas                     │     11615│        g\n",
      " 654  nose_blush                    │     11614│        g\n",
      " 655  animal_print                  │     11562│        g\n",
      " 656  star_(sky)                    │     11533│        g\n",
      " 657  ?                             │     11529│        g\n",
      " 658  oekaki                        │     11502│        g\n",
      " 659  :p                            │     11497│        g\n",
      " 660  strap_slip                    │     11393│        g\n",
      " 661  fate/zero                     │     11369│        y\n",
      " 662  frilled_skirt                 │     11367│        g\n",
      " 663  neck_ribbon                   │     11311│        g\n",
      " 664  kaga_(kantai_collection)      │     11270│        c\n",
      " 665  strike_witches                │     11251│        y\n",
      " 666  scenery                       │     11243│        g\n",
      " 667  bow_panties                   │     11230│        g\n",
      " 668  ribbon_trim                   │     11208│        g\n",
      " 669  yakumo_ran                    │     11207│        c\n",
      " 670  straddling                    │     11190│        g\n",
      " 671  floating_hair                 │     11147│        g\n",
      " 672  sunglasses                    │     11108│        g\n",
      " 673  rumia                         │     11104│        c\n",
      " 674  girl_on_top                   │     11099│        g\n",
      " 675  bare_arms                     │     11087│        g\n",
      " 676  wet_clothes                   │     11069│        g\n",
      " 677  lolita_fashion                │     11061│        g\n",
      " 678  armband                       │     11058│        g\n",
      " 679  cum_on_upper_body             │     11041│        g\n",
      " 680  long_legs                     │     11032│        g\n",
      " 681  anger_vein                    │     11030│        g\n",
      " 682  brooch                        │     10970│        g\n",
      " 683  rope                          │     10968│        g\n",
      " 684  hand_up                       │     10950│        g\n",
      " 685  moriya_suwako                 │     10937│        c\n",
      " 686  leg_up                        │     10912│        g\n",
      " 687  tareme                        │     10910│        g\n",
      " 688  on_bed                        │     10851│        g\n",
      " 689  kazami_yuuka                  │     10818│        c\n",
      " 690  santa_costume                 │     10789│        g\n",
      " 691  building                      │     10783│        g\n",
      " 692  handgun                       │     10780│        g\n",
      " 693  kagamine_rin                  │     10770│        c\n",
      " 694  no_shoes                      │     10756│        g\n",
      " 695  breast_hold                   │     10727│        g\n",
      " 696  nontraditional_miko           │     10716│        g\n",
      " 697  hakama                        │     10683│        g\n",
      " 698  wolf_tail                     │     10674│        g\n",
      " 699  sleeveless_shirt              │     10648│        g\n",
      " 700  kamishirasawa_keine           │     10608│        c\n",
      " 701  corset                        │     10603│        g\n",
      " 702  androgynous                   │     10589│        g\n",
      " 703  sakura_kyouko                 │     10558│        c\n",
      " 704  black_ribbon                  │     10550│        g\n",
      " 705  wristband                     │     10521│        g\n",
      " 706  facial                        │     10518│        g\n",
      " 707  china_dress                   │     10516│        g\n",
      " 708  dual_wielding                 │     10503│        g\n",
      " 709  swept_bangs                   │     10488│        g\n",
      " 710  touken_ranbu                  │     10482│        y\n",
      " 711  saber                         │     10477│        c\n",
      " 712  hand_on_own_chest             │     10475│        g\n",
      " 713  tomoe_mami                    │     10455│        c\n",
      " 714  motor_vehicle                 │     10390│        g\n",
      " 715  headwear_removed              │     10382│        g\n",
      " 716  pendant                       │     10377│        g\n",
      " 717  t-shirt                       │     10368│        g\n",
      " 718  konpaku_youmu_(ghost)         │     10359│        c\n",
      " 719  elf                           │     10358│        g\n",
      " 720  drooling                      │     10341│        g\n",
      " 721  candy                         │     10340│        g\n",
      " 722  crossdressing                 │     10331│        g\n",
      " 723  reiuji_utsuho                 │     10234│        c\n",
      " 724  curtains                      │     10231│        g\n",
      " 725  santa_hat                     │     10190│        g\n",
      " 726  minigirl                      │     10180│        g\n",
      " 727  half_updo                     │     10123│        g\n",
      " 728  chen                          │     10052│        c\n",
      " 729  forest                        │     10031│        g\n",
      " 730  o_o                           │     10019│        g\n",
      " 731  clenched_hand                 │     10019│        g\n",
      " 732  clenched_teeth                │     10011│        g\n",
      " 733  multicolored                  │      9968│        g\n",
      " 734  skin_tight                    │      9926│        g\n",
      " 735  bespectacled                  │      9919│        g\n",
      " 736  flying                        │      9905│        g\n",
      " 737  sailor_dress                  │      9900│        g\n",
      " 738  ass_visible_through_thighs    │      9889│        g\n",
      " 739  bar_censor                    │      9867│        g\n",
      " 740  white_bikini                  │      9858│        g\n",
      " 741  gym_uniform                   │      9820│        g\n",
      " 742  sweater_vest                  │      9808│        g\n",
      " 743  bunny_tail                    │      9763│        g\n",
      " 744  kawashiro_nitori              │      9759│        c\n",
      " 745  highleg                       │      9754│        g\n",
      " 746  rifle                         │      9691│        g\n",
      " 747  box                           │      9691│        g\n",
      " 748  panties_under_pantyhose       │      9690│        g\n",
      " 749  veil                          │      9685│        g\n",
      " 750  new_year                      │      9678│        g\n",
      " 751  tsurime                       │      9652│        g\n",
      " 752  licking                       │      9630│        g\n",
      " 753  puffy_nipples                 │      9619│        g\n",
      " 754  6+boys                        │      9610│        g\n",
      " 755  breasts_outside               │      9602│        g\n",
      " 756  v_arms                        │      9581│        g\n",
      " 757  claws                         │      9566│        g\n",
      " 758  cross-laced_footwear          │      9558│        g\n",
      " 759  snake                         │      9511│        g\n",
      " 760  standing_on_one_leg           │      9480│        g\n",
      " 761  bow_(weapon)                  │      9479│        g\n",
      " 762  buruma                        │      9433│        g\n",
      " 763  night_sky                     │      9421│        g\n",
      " 764  fish                          │      9375│        g\n",
      " 765  twins                         │      9346│        g\n",
      " 766  tales_of_(series)             │      9322│        y\n",
      " 767  folded_ponytail               │      9311│        g\n",
      " 768  finger_to_mouth               │      9281│        g\n",
      " 769  bridal_gauntlets              │      9258│        g\n",
      " 770  gift                          │      9239│        g\n",
      " 771  red-framed_eyewear            │      9235│        g\n",
      " 772  dress_lift                    │      9225│        g\n",
      " 773  teacup                        │      9210│        g\n",
      " 774  spear                         │      9193│        g\n",
      " 775  waist_apron                   │      9175│        g\n",
      " 776  close-up                      │      9146│        g\n",
      " 777  spot_color                    │      9125│        g\n",
      " 778  shimakaze_(kantai_collection) │      9107│        c\n",
      " 779  cuffs                         │      9082│        g\n",
      " 780  cloudy_sky                    │      9059│        g\n",
      " 781  hinanawi_tenshi               │      9045│        c\n",
      " 782  frilled_dress                 │      8992│        g\n",
      " 783  anal                          │      8990│        g\n",
      " 784  juliet_sleeves                │      8985│        g\n",
      " 785  turret                        │      8964│        g\n",
      " 786  hair_flaps                    │      8961│        g\n",
      " 787  shiny_hair                    │      8960│        g\n",
      " 788  masturbation                  │      8942│        g\n",
      " 789  cum_on_breasts                │      8926│        g\n",
      " 790  bunny                         │      8920│        g\n",
      " 791  clothes_writing               │      8910│        g\n",
      " 792  alcohol                       │      8900│        g\n",
      " 793  ball                          │      8896│        g\n",
      " 794  older                         │      8871│        g\n",
      " 795  hair_intakes                  │      8837│        g\n",
      " 796  skull                         │      8818│        g\n",
      " 797  spiked_hair                   │      8810│        g\n",
      " 798  ...                           │      8805│        g\n",
      " 799  fake_animal_ears              │      8789│        g\n",
      " 800  inazuma_eleven_(series)       │      8777│        y\n",
      " 801  holding_sword                 │      8762│        g\n",
      " 802  bubble                        │      8761│        g\n",
      " 803  naughty_face                  │      8758│        g\n",
      " 804  kaenbyou_rin                  │      8739│        c\n",
      " 805  jingle_bell                   │      8720│        g\n",
      " 806  seiza                         │      8717│        g\n",
      " 807  monster                       │      8715│        g\n",
      " 808  doujin_cover                  │      8706│        g\n",
      " 809  eye_contact                   │      8692│        g\n",
      " 810  dog_ears                      │      8691│        g\n",
      " 811  cake                          │      8681│        g\n",
      " 812  kill_la_kill                  │      8678│        y\n",
      " 813  high_ponytail                 │      8672│        g\n",
      " 814  halloween                     │      8647│        g\n",
      " 815  sneakers                      │      8635│        g\n",
      " 816  black_wings                   │      8626│        g\n",
      " 817  semi-rimless_eyewear          │      8622│        g\n",
      " 818  hat_removed                   │      8622│        g\n",
      " 819  shield                        │      8607│        g\n",
      " 820  tentacles                     │      8604│        g\n",
      " 821  messy_hair                    │      8592│        g\n",
      " 822  =_=                           │      8591│        g\n",
      " 823  vertical_stripes              │      8582│        g\n",
      " 824  breath                        │      8576│        g\n",
      " 825  fishnets                      │      8538│        g\n",
      " 826  partially_submerged           │      8520│        g\n",
      " 827  lens_flare                    │      8514│        g\n",
      " 828  upside-down                   │      8511│        g\n",
      " 829  miko                          │      8463│        g\n",
      " 830  abs                           │      8445│        g\n",
      " 831  card_(medium)                 │      8444│        g\n",
      " 832  couch                         │      8443│        g\n",
      " 833  doll                          │      8427│        g\n",
      " 834  tanline                       │      8420│        g\n",
      " 835  web_address                   │      8379│        g\n",
      " 836  kemono_friends                │      8323│        y\n",
      " 837  rain                          │      8321│        g\n",
      " 838  mahou_shoujo_lyrical_nanoha   │      8314│        y\n",
      " 839  lucky_star                    │      8312│        y\n",
      " 840  houraisan_kaguya              │      8289│        c\n",
      " 841  ice                           │      8274│        g\n",
      " 842  interlocked_fingers           │      8262│        g\n",
      " 843  wading                        │      8231│        g\n",
      " 844  sarashi                       │      8227│        g\n",
      " 845  garter_belt                   │      8175│        g\n",
      " 846  ribbed_sweater                │      8133│        g\n",
      " 847  pink_dress                    │      8112│        g\n",
      " 848  sleeves_rolled_up             │      8103│        g\n",
      " 849  steam                         │      8074│        g\n",
      " 850  geta                          │      8073│        g\n",
      " 851  kongou_(kantai_collection)    │      8057│        c\n",
      " 852  ghost                         │      8043│        g\n",
      " 853  camisole                      │      8018│        g\n",
      " 854  inaba_tewi                    │      8003│        c\n",
      " 855  street_fighter                │      8001│        y\n",
      " 856  innertube                     │      7998│        g\n",
      " 857  outstretched_hand             │      7991│        g\n",
      " 858  mystia_lorelei                │      7974│        c\n",
      " 859  border                        │      7960│        g\n",
      " 860  wince                         │      7950│        g\n",
      " 861  hair_over_shoulder            │      7949│        g\n",
      " 862  ofuda                         │      7929│        g\n",
      " 863  koakuma                       │      7920│        c\n",
      " 864  happy_birthday                │      7919│        g\n",
      " 865  ibuki_suika                   │      7913│        c\n",
      " 866  shawl                         │      7907│        g\n",
      " 867  side_slit                     │      7902│        g\n",
      " 868  strapless_dress               │      7886│        g\n",
      " 869  group_sex                     │      7884│        g\n",
      " 870  hibiki_(kantai_collection)    │      7869│        c\n",
      " 871  hug_from_behind               │      7839│        g\n",
      " 872  sunset                        │      7820│        g\n",
      " 873  single_thighhigh              │      7812│        g\n",
      " 874  popsicle                      │      7807│        g\n",
      " 875  bandaid                       │      7794│        g\n",
      " 876  gem                           │      7791│        g\n",
      " 877  black_bikini                  │      7784│        g\n",
      " 878  tray                          │      7778│        g\n",
      " 879  starry_sky                    │      7748│        g\n",
      " 880  track_jacket                  │      7737│        g\n",
      " 881  yukata                        │      7735│        g\n",
      " 882  bloomers                      │      7733│        g\n",
      " 883  frog                          │      7719│        g\n",
      " 884  brown_footwear                │      7716│        g\n",
      " 885  wide_hips                     │      7715│        g\n",
      " 886  green_skirt                   │      7666│        g\n",
      " 887  brown_legwear                 │      7654│        g\n",
      " 888  side_braid                    │      7649│        g\n",
      " 889  smoke                         │      7642│        g\n",
      " 890  hijiri_byakuren               │      7627│        c\n",
      " 891  megurine_luka                 │      7614│        c\n",
      " 892  hairpin                       │      7612│        g\n",
      " 893  fingering                     │      7607│        g\n",
      " 894  pantyshot_(sitting)           │      7600│        g\n",
      " 895  mahou_shoujo_lyrical_nanoha_strikers│      7594│        y\n",
      " 896  beard                         │      7591│        g\n",
      " 897  handjob                       │      7573│        g\n",
      " 898  dog                           │      7568│        g\n",
      " 899  4boys                         │      7567│        g\n",
      " 900  swimsuit_under_clothes        │      7551│        g\n",
      " 901  paizuri                       │      7545│        g\n",
      " 902  inazuma_(kantai_collection)   │      7514│        c\n",
      " 903  revealing_clothes             │      7506│        g\n",
      " 904  desk                          │      7477│        g\n",
      " 905  back-to-back                  │      7470│        g\n",
      " 906  micro_bikini                  │      7463│        g\n",
      " 907  jitome                        │      7461│        g\n",
      " 908  gothic_lolita                 │      7449│        g\n",
      " 909  sharp_teeth                   │      7424│        g\n",
      " 910  realistic                     │      7423│        g\n",
      " 911  code_geass                    │      7415│        y\n",
      " 912  contemporary                  │      7411│        g\n",
      " 913  fate/extra                    │      7409│        y\n",
      " 914  long_fingernails              │      7392│        g\n",
      " 915  x_hair_ornament               │      7392│        g\n",
      " 916  umineko_no_naku_koro_ni       │      7389│        y\n",
      " 917  zoom_layer                    │      7386│        g\n",
      " 918  underwater                    │      7382│        g\n",
      " 919  between_legs                  │      7374│        g\n",
      " 920  pencil_skirt                  │      7354│        g\n",
      " 921  reflection                    │      7352│        g\n",
      " 922  pom_pom_(clothes)             │      7344│        g\n",
      " 923  hitodama                      │      7335│        g\n",
      " 924  akiyama_mio                   │      7331│        c\n",
      " 925  ribbon-trimmed_sleeves        │      7330│        g\n",
      " 926  aircraft                      │      7306│        g\n",
      " 927  testicles                     │      7303│        g\n",
      " 928  thick_thighs                  │      7301│        g\n",
      " 929  low-tied_long_hair            │      7291│        g\n",
      " 930  impossible_clothes            │      7287│        g\n",
      " 931  top_hat                       │      7287│        g\n",
      " 932  bowl                          │      7284│        g\n",
      " 933  spread_pussy                  │      7253│        g\n",
      " 934  hands_on_hips                 │      7238│        g\n",
      " 935  akagi_(kantai_collection)     │      7235│        c\n",
      " 936  yasaka_kanako                 │      7231│        c\n",
      " 937  frilled_sleeves               │      7215│        g\n",
      " 938  pajamas                       │      7211│        g\n",
      " 939  after_sex                     │      7183│        g\n",
      " 940  monogatari_(series)           │      7163│        y\n",
      " 941  antennae                      │      7159│        g\n",
      " 942  brother_and_sister            │      7148│        g\n",
      " 943  rozen_maiden                  │      7135│        y\n",
      " 944  tress_ribbon                  │      7121│        g\n",
      " 945  kita_high_school_uniform      │      7119│        g\n",
      " 946  gohei                         │      7107│        g\n",
      " 947  thong                         │      7105│        g\n",
      " 948  persona_4                     │      7093│        y\n",
      " 949  curvy                         │      7075│        g\n",
      " 950  own_hands_together            │      7074│        g\n",
      " 951  tabard                        │      7067│        g\n",
      " 952  |_|                           │      7066│        g\n",
      " 953  running                       │      7061│        g\n",
      " 954  everyone                      │      7055│        g\n",
      " 955  paw_pose                      │      7049│        g\n",
      " 956  hands_together                │      7043│        g\n",
      " 957  tenryuu_(kantai_collection)   │      7040│        c\n",
      " 958  legs_up                       │      6982│        g\n",
      " 959  baseball_cap                  │      6964│        g\n",
      " 960  overwatch                     │      6962│        y\n",
      " 961  epaulettes                    │      6942│        g\n",
      " 962  tengen_toppa_gurren_lagann    │      6931│        y\n",
      " 963  muneate                       │      6924│        g\n",
      " 964  cloak                         │      6919│        g\n",
      " 965  smirk                         │      6914│        g\n",
      " 966  kagamine_len                  │      6889│        c\n",
      " 967  spread_arms                   │      6885│        g\n",
      " 968  sword_art_online              │      6882│        y\n",
      " 969  smile_precure!                │      6882│        y\n",
      " 970  mole_under_mouth              │      6881│        g\n",
      " 971  quaver                        │      6880│        g\n",
      " 972  blazblue                      │      6874│        y\n",
      " 973  cigarette                     │      6871│        g\n",
      " 974  light_brown_hair              │      6858│        g\n",
      " 975  portrait                      │      6849│        g\n",
      " 976  piercing                      │      6848│        g\n",
      " 977  curly_hair                    │      6844│        g\n",
      " 978  hair_rings                    │      6842│        g\n",
      " 979  +_+                           │      6841│        g\n",
      " 980  hair_down                     │      6840│        g\n",
      " 981  mittens                       │      6837│        g\n",
      " 982  goggles_on_head               │      6832│        g\n",
      " 983  walking                       │      6820│        g\n",
      " 984  black_bra                     │      6816│        g\n",
      " 985  yagokoro_eirin                │      6815│        c\n",
      " 986  white_skirt                   │      6806│        g\n",
      " 987  butt_crack                    │      6803│        g\n",
      " 988  hand_on_another's_head        │      6797│        g\n",
      " 989  injury                        │      6795│        g\n",
      " 990  angel_wings                   │      6786│        g\n",
      " 991  zipper                        │      6776│        g\n",
      " 992  ;)                            │      6772│        g\n",
      " 993  demon_tail                    │      6764│        g\n",
      " 994  arms_behind_head              │      6759│        g\n",
      " 995  serious                       │      6750│        g\n",
      " 996  pose                          │      6741│        g\n",
      " 997  clenched_hands                │      6735│        g\n",
      " 998  jumping                       │      6731│        g\n",
      " 999  hime_cut                      │      6719│        g\n",
      "1000  striped_bikini                │      6719│        g\n"
     ]
    }
   ],
   "source": [
    "list_count(tag_count)"
   ]
  },
  {
   "cell_type": "code",
   "execution_count": 29,
   "metadata": {},
   "outputs": [],
   "source": [
    "def plot_count(most_popular_tags, steps, logx=True):\n",
    "    pop_tag_number = len(most_popular_tags)\n",
    "    _, pop_tag_count, _ = zip(*most_popular_tags)\n",
    "    rank_range = list(range(1, pop_tag_number + 1))\n",
    "    if logx:\n",
    "        plt.semilogy(rank_range, pop_tag_count)\n",
    "    else:\n",
    "        plt.plot(rank_range, pop_tag_count)\n",
    "    plt.xticks(rank_range[steps-1::steps], rank_range[steps-1::steps])\n",
    "    plt.xlim(0, pop_tag_number)\n",
    "    plt.ylabel(\"count\")\n",
    "    plt.xlabel(\"rank\")\n",
    "    if logx:\n",
    "        annotate_line = np.logspace(np.log10(pop_tag_count[steps // 4]), np.log10(pop_tag_count[-1]) * 1.1, 9)\n",
    "    else:\n",
    "        annotate_line = np.linspace(pop_tag_count[0] * 0.9, pop_tag_count[steps*9] * 1.1, 9)\n",
    "    for logy, i in zip(annotate_line, range(0, pop_tag_number - steps, steps)):\n",
    "        idx = random.randint(i, i + steps - 1)\n",
    "        random_rank = rank_range[idx]\n",
    "        random_count = pop_tag_count[idx]\n",
    "        random_tag = most_popular_tags[idx][0]\n",
    "        plt.annotate(random_tag, (random_rank, random_count), (i + steps / 2, logy),\n",
    "                     arrowprops={\"arrowstyle\":\"-|>\"})\n",
    "    plt.title(\"Distribution of %d most popular tags\" % pop_tag_number)"
   ]
  },
  {
   "cell_type": "code",
   "execution_count": 30,
   "metadata": {},
   "outputs": [
    {
     "data": {
      "image/png": "[encoded data removed]",
      "text/plain": [
       "<matplotlib.figure.Figure at 0x7f193761cf98>"
      ]
     },
     "metadata": {},
     "output_type": "display_data"
    }
   ],
   "source": [
    "plot_count(tag_count, 100)"
   ]
  },
  {
   "cell_type": "markdown",
   "metadata": {},
   "source": [
    "Very interesting! Even in log10 space these tags are not really linear distributed. Let's see if we can solve this with preprocessing or if there are some fancy tricks like weighting to take these differences in the distribution into account."
   ]
  },
  {
   "cell_type": "code",
   "execution_count": 31,
   "metadata": {},
   "outputs": [
    {
     "name": "stdout",
     "output_type": "stream",
     "text": [
      "Important! These are the top 1000 tags (in descending order) where the word breast is included:\n",
      "breasts, large_breasts, medium_breasts, small_breasts, huge_breasts, breast_grab, breast_press, between_breasts, breast_hold, breasts_outside, cum_on_breasts\n",
      "In total these are 11 tags!\n"
     ]
    }
   ],
   "source": [
    "print(\"Important! These are the top 1000 tags (in descending order) where the word breast is included:\")\n",
    "breast_list = [tag for tag, _, _ in tag_count if tag.find(\"breast\") >= 0]\n",
    "print(reduce(list_to_string, breast_list))\n",
    "print(\"In total these are %d tags!\" % len(breast_list))"
   ]
  },
  {
   "cell_type": "code",
   "execution_count": 32,
   "metadata": {},
   "outputs": [],
   "source": [
    "def posts_with_tag(tagname):\n",
    "    tag_id = %sql SELECT id FROM tags WHERE name = :tagname\n",
    "    tag_id = tag_id[0][0]\n",
    "    post_id = %sql SELECT post_id FROM tagged WHERE tag_id = :tag_id\n",
    "    return post_id"
   ]
  },
  {
   "cell_type": "code",
   "execution_count": 33,
   "metadata": {},
   "outputs": [
    {
     "name": "stdout",
     "output_type": "stream",
     "text": [
      "1 rows affected.\n",
      "9 rows affected.\n"
     ]
    },
    {
     "data": {
      "text/html": [
       "<table>\n",
       "    <tr>\n",
       "        <th>post_id</th>\n",
       "    </tr>\n",
       "    <tr>\n",
       "        <td>460734</td>\n",
       "    </tr>\n",
       "    <tr>\n",
       "        <td>472435</td>\n",
       "    </tr>\n",
       "    <tr>\n",
       "        <td>596058</td>\n",
       "    </tr>\n",
       "    <tr>\n",
       "        <td>1022243</td>\n",
       "    </tr>\n",
       "    <tr>\n",
       "        <td>1040917</td>\n",
       "    </tr>\n",
       "    <tr>\n",
       "        <td>1062730</td>\n",
       "    </tr>\n",
       "    <tr>\n",
       "        <td>1278123</td>\n",
       "    </tr>\n",
       "    <tr>\n",
       "        <td>1445451</td>\n",
       "    </tr>\n",
       "    <tr>\n",
       "        <td>2666173</td>\n",
       "    </tr>\n",
       "</table>"
      ],
      "text/plain": [
       "[(460734,),\n",
       " (472435,),\n",
       " (596058,),\n",
       " (1022243,),\n",
       " (1040917,),\n",
       " (1062730,),\n",
       " (1278123,),\n",
       " (1445451,),\n",
       " (2666173,)]"
      ]
     },
     "execution_count": 33,
     "metadata": {},
     "output_type": "execute_result"
    }
   ],
   "source": [
    "posts_with_tag(\"headphones_on_breasts\")"
   ]
  },
  {
   "cell_type": "markdown",
   "metadata": {},
   "source": [
    "### Artists"
   ]
  },
  {
   "cell_type": "code",
   "execution_count": 34,
   "metadata": {},
   "outputs": [
    {
     "name": "stdout",
     "output_type": "stream",
     "text": [
      "100 rows affected.\n"
     ]
    }
   ],
   "source": [
    "artist_count = %sql SELECT * FROM filtered_tags WHERE category = 'a' LIMIT 100"
   ]
  },
  {
   "cell_type": "code",
   "execution_count": 35,
   "metadata": {},
   "outputs": [
    {
     "name": "stdout",
     "output_type": "stream",
     "text": [
      "RANK  NAME                          │     COUNT│ CATEGORY\n",
      "───────────────────────────────────┼──────────┼─────────\n",
      "  1  hammer_(sunset_beach)         │      3548│        a\n",
      "  2  haruyama_kazunori             │      3422│        a\n",
      "  3  itomugi-kun                   │      2333│        a\n",
      "  4  kouji_(campus_life)           │      2142│        a\n",
      "  5  rebecca_(keinelove)           │      2051│        a\n",
      "  6  yohane                        │      1912│        a\n",
      "  7  ichimi                        │      1726│        a\n",
      "  8  a1                            │      1706│        a\n",
      "  9  carnelian                     │      1514│        a\n",
      " 10  shino_(ponjiyuusu)            │      1420│        a\n",
      " 11  shimazaki_mujirushi           │      1419│        a\n",
      " 12  kirisawa_juuzou               │      1414│        a\n",
      " 13  dd_(ijigendd)                 │      1397│        a\n",
      " 14  tonda                         │      1397│        a\n",
      " 15  warugaki_(sk-ii)              │      1390│        a\n",
      " 16  ueyama_michirou               │      1364│        a\n",
      " 17  masao                         │      1358│        a\n",
      " 18  mizuki_makoto                 │      1334│        a\n",
      " 19  yua_(checkmate)               │      1304│        a\n",
      " 20  tanaka_takayuki               │      1297│        a\n",
      " 21  futa_(nabezoko)               │      1278│        a\n",
      " 22  kantoku                       │      1239│        a\n",
      " 23  peko                          │      1227│        a\n",
      " 24  mizuhara_aki                  │      1218│        a\n",
      " 25  tsuda_nanafushi               │      1209│        a\n",
      " 26  blade_(galaxist)              │      1170│        a\n",
      " 27  niiko_(gonnzou)               │      1162│        a\n",
      " 28  onikobe_rin                   │      1160│        a\n",
      " 29  hisahiko                      │      1128│        a\n",
      " 30  katahira_masashi              │      1122│        a\n",
      " 31  gofu                          │      1121│        a\n",
      " 32  agahari                       │      1073│        a\n",
      " 33  tsukudani_(coke-buta)         │      1072│        a\n",
      " 34  mizumoto_tadashi              │      1068│        a\n",
      " 35  bai_lao_shu                   │      1066│        a\n",
      " 36  karaagetarou                  │      1058│        a\n",
      " 37  niwatazumi                    │      1049│        a\n",
      " 38  drawfag                       │      1041│        a\n",
      " 39  yokochou                      │      1034│        a\n",
      " 40  hoshizuki_(seigetsu)          │      1022│        a\n",
      " 41  zounose                       │      1000│        a\n",
      " 42  tima                          │       986│        a\n",
      " 43  tsunako                       │       979│        a\n",
      " 44  shichimenchou                 │       973│        a\n",
      " 45  abubu                         │       967│        a\n",
      " 46  mikage_takashi                │       962│        a\n",
      " 47  minaba_hideo                  │       959│        a\n",
      " 48  koto_inari                    │       946│        a\n",
      " 49  maruki_(punchiki)             │       933│        a\n",
      " 50  fumio_(rsqkr)                 │       925│        a\n",
      " 51  otohime_(youngest_princess)   │       924│        a\n",
      " 52  unya                          │       924│        a\n",
      " 53  itou_noiji                    │       921│        a\n",
      " 54  bkub                          │       915│        a\n",
      " 55  iesupa                        │       905│        a\n",
      " 56  eroe                          │       903│        a\n",
      " 57  ha_akabouzu                   │       891│        a\n",
      " 58  frapowa                       │       891│        a\n",
      " 59  yagisaka_seto                 │       890│        a\n",
      " 60  houtengeki                    │       868│        a\n",
      " 61  gaoo_(frpjx283)               │       864│        a\n",
      " 62  ilya_kuvshinov                │       851│        a\n",
      " 63  suzuhira_hiro                 │       850│        a\n",
      " 64  minami_(colorful_palette)     │       849│        a\n",
      " 65  creayus                       │       848│        a\n",
      " 66  catstudioinc_(punepuni)       │       845│        a\n",
      " 67  matsunaga_kouyou              │       844│        a\n",
      " 68  clearite                      │       834│        a\n",
      " 69  nishi_koutarou                │       830│        a\n",
      " 70  takeuchi_takashi              │       828│        a\n",
      " 71  sayori                        │       819│        a\n",
      " 72  mattaku_mousuke               │       814│        a\n",
      " 73  tomose_shunsaku               │       809│        a\n",
      " 74  kuromiya                      │       806│        a\n",
      " 75  meow_(nekodenki)              │       806│        a\n",
      " 76  seo_tatsuya                   │       800│        a\n",
      " 77  six_(fnrptal1010)             │       797│        a\n",
      " 78  cis_(carcharias)              │       788│        a\n",
      " 79  mishima_kurone                │       787│        a\n",
      " 80  koyama_shigeru                │       780│        a\n",
      " 81  fuantei                       │       774│        a\n",
      " 82  shirosato                     │       770│        a\n",
      " 83  zen                           │       770│        a\n",
      " 84  cato_(monocatienus)           │       767│        a\n",
      " 85  gogiga_gagagigo               │       761│        a\n",
      " 86  kawashina_(momen_silicon)     │       758│        a\n",
      " 87  gomasamune                    │       757│        a\n",
      " 88  chado                         │       756│        a\n",
      " 89  ikari_manatsu                 │       755│        a\n",
      " 90  mitsumoto_jouji               │       750│        a\n",
      " 91  kara_(color)                  │       739│        a\n",
      " 92  manji_(tenketsu)              │       737│        a\n",
      " 93  ebifurya                      │       736│        a\n",
      " 94  homare_(fool's_art)           │       735│        a\n",
      " 95  matsuryuu                     │       729│        a\n",
      " 96  bow_(bhp)                     │       727│        a\n",
      " 97  urushihara_satoshi            │       724│        a\n",
      " 98  yume_shokunin                 │       723│        a\n",
      " 99  satou_kibi                    │       721│        a\n",
      "100  beni_shake                    │       721│        a\n"
     ]
    }
   ],
   "source": [
    "list_count(artist_count)"
   ]
  },
  {
   "cell_type": "code",
   "execution_count": 36,
   "metadata": {},
   "outputs": [
    {
     "data": {
      "image/png": "[encoded data removed]",
      "text/plain": [
       "<matplotlib.figure.Figure at 0x7f1937525160>"
      ]
     },
     "metadata": {},
     "output_type": "display_data"
    }
   ],
   "source": [
    "plot_count(artist_count, 10, logx=False)"
   ]
  },
  {
   "cell_type": "markdown",
   "metadata": {},
   "source": [
    "### Popular anime characters"
   ]
  },
  {
   "cell_type": "code",
   "execution_count": 37,
   "metadata": {},
   "outputs": [
    {
     "name": "stdout",
     "output_type": "stream",
     "text": [
      "100 rows affected.\n"
     ]
    }
   ],
   "source": [
    "character_count = %sql SELECT * FROM filtered_tags WHERE category = 'c' LIMIT 100"
   ]
  },
  {
   "cell_type": "code",
   "execution_count": 38,
   "metadata": {},
   "outputs": [
    {
     "name": "stdout",
     "output_type": "stream",
     "text": [
      "RANK  NAME                          │     COUNT│ CATEGORY\n",
      "───────────────────────────────────┼──────────┼─────────\n",
      "  1  hatsune_miku                  │     46602│        c\n",
      "  2  hakurei_reimu                 │     39960│        c\n",
      "  3  kirisame_marisa               │     38528│        c\n",
      "  4  remilia_scarlet               │     29390│        c\n",
      "  5  izayoi_sakuya                 │     27382│        c\n",
      "  6  flandre_scarlet               │     25841│        c\n",
      "  7  alice_margatroid              │     21374│        c\n",
      "  8  patchouli_knowledge           │     20884│        c\n",
      "  9  cirno                         │     19054│        c\n",
      " 10  yakumo_yukari                 │     18781│        c\n",
      " 11  kochiya_sanae                 │     18676│        c\n",
      " 12  konpaku_youmu                 │     18455│        c\n",
      " 13  admiral_(kantai_collection)   │     16920│        c\n",
      " 14  akemi_homura                  │     16872│        c\n",
      " 15  fujiwara_no_mokou             │     16324│        c\n",
      " 16  hong_meiling                  │     15677│        c\n",
      " 17  shameimaru_aya                │     15570│        c\n",
      " 18  kaname_madoka                 │     15211│        c\n",
      " 19  reisen_udongein_inaba         │     14323│        c\n",
      " 20  komeiji_koishi                │     14134│        c\n",
      " 21  saigyouji_yuyuko              │     13294│        c\n",
      " 22  inubashiri_momiji             │     13204│        c\n",
      " 23  artoria_pendragon_(all)       │     13053│        c\n",
      " 24  komeiji_satori                │     12938│        c\n",
      " 25  miki_sayaka                   │     12041│        c\n",
      " 26  kaga_(kantai_collection)      │     11270│        c\n",
      " 27  yakumo_ran                    │     11207│        c\n",
      " 28  rumia                         │     11104│        c\n",
      " 29  moriya_suwako                 │     10937│        c\n",
      " 30  kazami_yuuka                  │     10818│        c\n",
      " 31  kagamine_rin                  │     10770│        c\n",
      " 32  kamishirasawa_keine           │     10608│        c\n",
      " 33  sakura_kyouko                 │     10558│        c\n",
      " 34  saber                         │     10477│        c\n",
      " 35  tomoe_mami                    │     10455│        c\n",
      " 36  konpaku_youmu_(ghost)         │     10359│        c\n",
      " 37  reiuji_utsuho                 │     10234│        c\n",
      " 38  chen                          │     10052│        c\n",
      " 39  kawashiro_nitori              │      9759│        c\n",
      " 40  shimakaze_(kantai_collection) │      9107│        c\n",
      " 41  hinanawi_tenshi               │      9045│        c\n",
      " 42  kaenbyou_rin                  │      8739│        c\n",
      " 43  houraisan_kaguya              │      8289│        c\n",
      " 44  kongou_(kantai_collection)    │      8057│        c\n",
      " 45  inaba_tewi                    │      8003│        c\n",
      " 46  mystia_lorelei                │      7974│        c\n",
      " 47  koakuma                       │      7920│        c\n",
      " 48  ibuki_suika                   │      7913│        c\n",
      " 49  hibiki_(kantai_collection)    │      7869│        c\n",
      " 50  hijiri_byakuren               │      7627│        c\n",
      " 51  megurine_luka                 │      7614│        c\n",
      " 52  inazuma_(kantai_collection)   │      7514│        c\n",
      " 53  akiyama_mio                   │      7331│        c\n",
      " 54  akagi_(kantai_collection)     │      7235│        c\n",
      " 55  yasaka_kanako                 │      7231│        c\n",
      " 56  tenryuu_(kantai_collection)   │      7040│        c\n",
      " 57  kagamine_len                  │      6889│        c\n",
      " 58  yagokoro_eirin                │      6815│        c\n",
      " 59  nazrin                        │      6694│        c\n",
      " 60  nakano_azusa                  │      6527│        c\n",
      " 61  houjuu_nue                    │      6503│        c\n",
      " 62  ikazuchi_(kantai_collection)  │      6454│        c\n",
      " 63  morichika_rinnosuke           │      6315│        c\n",
      " 64  mizuhashi_parsee              │      6287│        c\n",
      " 65  souryuu_asuka_langley         │      6268│        c\n",
      " 66  nagato_yuki                   │      6194│        c\n",
      " 67  fate_testarossa               │      6032│        c\n",
      " 68  hirasawa_yui                  │      6029│        c\n",
      " 69  shanghai_doll                 │      6018│        c\n",
      " 70  tatara_kogasa                 │      6010│        c\n",
      " 71  kagiyama_hina                 │      5971│        c\n",
      " 72  shigure_(kantai_collection)   │      5927│        c\n",
      " 73  kyubey                        │      5725│        c\n",
      " 74  suzumiya_haruhi               │      5509│        c\n",
      " 75  akatsuki_(kantai_collection)  │      5504│        c\n",
      " 76  hoshiguma_yuugi               │      5411│        c\n",
      " 77  wriggle_nightbug              │      5391│        c\n",
      " 78  toosaka_rin                   │      5374│        c\n",
      " 79  tainaka_ritsu                 │      5252│        c\n",
      " 80  toyosatomimi_no_miko          │      5204│        c\n",
      " 81  nagato_(kantai_collection)    │      5198│        c\n",
      " 82  mononobe_no_futo              │      5061│        c\n",
      " 83  yuudachi_(kantai_collection)  │      5018│        c\n",
      " 84  haruna_(kantai_collection)    │      4984│        c\n",
      " 85  onozuka_komachi               │      4942│        c\n",
      " 86  takamachi_nanoha              │      4927│        c\n",
      " 87  northern_ocean_hime           │      4760│        c\n",
      " 88  fubuki_(kantai_collection)    │      4667│        c\n",
      " 89  zuikaku_(kantai_collection)   │      4639│        c\n",
      " 90  shiki_eiki                    │      4595│        c\n",
      " 91  toramaru_shou                 │      4537│        c\n",
      " 92  misaka_mikoto                 │      4439│        c\n",
      " 93  daiyousei                     │      4432│        c\n",
      " 94  nishikino_maki                │      4384│        c\n",
      " 95  matoi_ryuuko                  │      4305│        c\n",
      " 96  nagae_iku                     │      4191│        c\n",
      " 97  yazawa_nico                   │      4073│        c\n",
      " 98  kotobuki_tsumugi              │      4056│        c\n",
      " 99  hamakaze_(kantai_collection)  │      4049│        c\n",
      "100  atago_(kantai_collection)     │      4038│        c\n"
     ]
    }
   ],
   "source": [
    "list_count(character_count)"
   ]
  },
  {
   "cell_type": "code",
   "execution_count": 39,
   "metadata": {},
   "outputs": [
    {
     "data": {
      "image/png": "[encoded data removed]",
      "text/plain": [
       "<matplotlib.figure.Figure at 0x7f19374ab6d8>"
      ]
     },
     "metadata": {},
     "output_type": "display_data"
    }
   ],
   "source": [
    "plot_count(character_count, 10, logx=False)"
   ]
  },
  {
   "cell_type": "markdown",
   "metadata": {},
   "source": [
    "## Popular series\n",
    "\n",
    "Last but not least."
   ]
  },
  {
   "cell_type": "code",
   "execution_count": 40,
   "metadata": {},
   "outputs": [
    {
     "name": "stdout",
     "output_type": "stream",
     "text": [
      "100 rows affected.\n"
     ]
    }
   ],
   "source": [
    "series_count = %sql SELECT * FROM filtered_tags WHERE category = 'y' LIMIT 100"
   ]
  },
  {
   "cell_type": "code",
   "execution_count": 41,
   "metadata": {},
   "outputs": [
    {
     "name": "stdout",
     "output_type": "stream",
     "text": [
      "RANK  NAME                          │     COUNT│ CATEGORY\n",
      "───────────────────────────────────┼──────────┼─────────\n",
      "  1  touhou                        │    464306│        y\n",
      "  2  original                      │    267941│        y\n",
      "  3  kantai_collection             │    204176│        y\n",
      "  4  vocaloid                      │     70252│        y\n",
      "  5  idolmaster                    │     68882│        y\n",
      "  6  fate_(series)                 │     62834│        y\n",
      "  7  mahou_shoujo_madoka_magica    │     40811│        y\n",
      "  8  idolmaster_cinderella_girls   │     37928│        y\n",
      "  9  pokemon                       │     34554│        y\n",
      " 10  precure                       │     26821│        y\n",
      " 11  idolmaster_(classic)          │     24559│        y\n",
      " 12  jojo_no_kimyou_na_bouken      │     24282│        y\n",
      " 13  fate/grand_order              │     23010│        y\n",
      " 14  love_live!                    │     22478│        y\n",
      " 15  pokemon_(game)                │     21926│        y\n",
      " 16  fate/stay_night               │     19792│        y\n",
      " 17  love_live!_school_idol_project│     18627│        y\n",
      " 18  k-on!                         │     18618│        y\n",
      " 19  final_fantasy                 │     16809│        y\n",
      " 20  lyrical_nanoha                │     16450│        y\n",
      " 21  gundam                        │     15928│        y\n",
      " 22  suzumiya_haruhi_no_yuuutsu    │     15141│        y\n",
      " 23  world_witches_series          │     14517│        y\n",
      " 24  girls_und_panzer              │     13946│        y\n",
      " 25  persona                       │     13100│        y\n",
      " 26  granblue_fantasy              │     12975│        y\n",
      " 27  neon_genesis_evangelion       │     12256│        y\n",
      " 28  fire_emblem                   │     12096│        y\n",
      " 29  to_aru_majutsu_no_index       │     11772│        y\n",
      " 30  fate/zero                     │     11369│        y\n",
      " 31  strike_witches                │     11251│        y\n",
      " 32  touken_ranbu                  │     10482│        y\n",
      " 33  tales_of_(series)             │      9322│        y\n",
      " 34  inazuma_eleven_(series)       │      8777│        y\n",
      " 35  kill_la_kill                  │      8678│        y\n",
      " 36  kemono_friends                │      8323│        y\n",
      " 37  mahou_shoujo_lyrical_nanoha   │      8314│        y\n",
      " 38  lucky_star                    │      8312│        y\n",
      " 39  street_fighter                │      8001│        y\n",
      " 40  mahou_shoujo_lyrical_nanoha_strikers│      7594│        y\n",
      " 41  code_geass                    │      7415│        y\n",
      " 42  fate/extra                    │      7409│        y\n",
      " 43  umineko_no_naku_koro_ni       │      7389│        y\n",
      " 44  monogatari_(series)           │      7163│        y\n",
      " 45  rozen_maiden                  │      7135│        y\n",
      " 46  persona_4                     │      7093│        y\n",
      " 47  overwatch                     │      6962│        y\n",
      " 48  tengen_toppa_gurren_lagann    │      6931│        y\n",
      " 49  smile_precure!                │      6882│        y\n",
      " 50  sword_art_online              │      6882│        y\n",
      " 51  blazblue                      │      6874│        y\n",
      " 52  bishoujo_senshi_sailor_moon   │      6694│        y\n",
      " 53  to_aru_kagaku_no_railgun      │      6631│        y\n",
      " 54  higurashi_no_naku_koro_ni     │      6130│        y\n",
      " 55  tiger_&_bunny                 │      6100│        y\n",
      " 56  league_of_legends             │      5801│        y\n",
      " 57  the_legend_of_zelda           │      5783│        y\n",
      " 58  danganronpa                   │      5780│        y\n",
      " 59  shingeki_no_kyojin            │      5757│        y\n",
      " 60  pokemon_sm                    │      5629│        y\n",
      " 61  inazuma_eleven_go             │      5567│        y\n",
      " 62  naruto                        │      5331│        y\n",
      " 63  saki                          │      5194│        y\n",
      " 64  dragon_quest                  │      5193│        y\n",
      " 65  macross                       │      5152│        y\n",
      " 66  ore_no_imouto_ga_konna_ni_kawaii_wake_ga_nai│      5117│        y\n",
      " 67  fate/apocrypha                │      5026│        y\n",
      " 68  touhou_(pc-98)                │      4913│        y\n",
      " 69  splatoon                      │      4706│        y\n",
      " 70  yuu-gi-ou                     │      4685│        y\n",
      " 71  guilty_gear                   │      4569│        y\n",
      " 72  persona_3                     │      4508│        y\n",
      " 73  pokemon_bw                    │      4501│        y\n",
      " 74  tsukihime                     │      4436│        y\n",
      " 75  to_heart_2                    │      4388│        y\n",
      " 76  idolmaster_million_live!      │      4374│        y\n",
      " 77  rebuild_of_evangelion         │      4331│        y\n",
      " 78  re:zero_kara_hajimeru_isekai_seikatsu│      4304│        y\n",
      " 79  gochuumon_wa_usagi_desu_ka?   │      4216│        y\n",
      " 80  neptune_(series)              │      4197│        y\n",
      " 81  macross_frontier              │      4158│        y\n",
      " 82  mahou_shoujo_lyrical_nanoha_a's│      4150│        y\n",
      " 83  bakemonogatari                │      4132│        y\n",
      " 84  little_busters!               │      4053│        y\n",
      " 85  the_king_of_fighters          │      4043│        y\n",
      " 86  yuru_yuri                     │      4014│        y\n",
      " 87  dokidoki!_precure             │      3996│        y\n",
      " 88  axis_powers_hetalia           │      3991│        y\n",
      " 89  vampire_(game)                │      3989│        y\n",
      " 90  clannad                       │      3915│        y\n",
      " 91  one_piece                     │      3911│        y\n",
      " 92  gundam_00                     │      3878│        y\n",
      " 93  love_live!_sunshine!!         │      3865│        y\n",
      " 94  ragnarok_online               │      3842│        y\n",
      " 95  heartcatch_precure!           │      3835│        y\n",
      " 96  splatoon_1                    │      3824│        y\n",
      " 97  pixiv_fantasia                │      3798│        y\n",
      " 98  black_rock_shooter            │      3728│        y\n",
      " 99  fire_emblem_if                │      3684│        y\n",
      "100  puzzle_&_dragons              │      3630│        y\n"
     ]
    }
   ],
   "source": [
    "list_count(series_count)"
   ]
  },
  {
   "cell_type": "code",
   "execution_count": 42,
   "metadata": {},
   "outputs": [
    {
     "data": {
      "image/png": "[encoded data removed]",
      "text/plain": [
       "<matplotlib.figure.Figure at 0x7f1937394c88>"
      ]
     },
     "metadata": {},
     "output_type": "display_data"
    }
   ],
   "source": [
    "plot_count(series_count, 10)"
   ]
  },
  {
   "cell_type": "markdown",
   "metadata": {},
   "source": [
    "### Filter out some more tags\n",
    "\n",
    "There are some tags than can not be easily inferred from just looking on the images, that do not correspont with the use cases I have in mind or that train on useless features. Better to either remove such posts or just remove these tags.\n",
    "\n",
    "I looked through the first 500 tags from the list above and took note of the following ones:\n",
    "\n",
    "* monochrome\n",
    "* **comic**\n",
    "* greyscale\n",
    "* alternate_costume\n",
    "* translated\n",
    "* artist_request\n",
    "* sketch\n",
    "* character_name\n",
    "* copyright_request\n",
    "* artist_name\n",
    "* cosplay\n",
    "* dated\n",
    "* signature\n",
    "* parody\n",
    "* twitter_username\n",
    "* copyright_name\n",
    "* alternate_hairstyle\n",
    "* **no_humans**\n",
    "* translation_request\n",
    "* english\n",
    "* gradient\n",
    "* crossover\n",
    "* doujinshi\n",
    "* genderswap\n",
    "* remodel_(kantai_collection)\n",
    "* game_cg\n",
    "* cover_page\n",
    "* official_art\n",
    "* scan\n",
    "* text\n",
    "* **4koma**\n",
    "* traditional_media\n",
    "* **3d**\n",
    "* **photo**\n",
    "* **lowres**\n",
    "\n",
    "It might also be a good idea to remove the tags for series (category y) because I don't know why this would be useful. The same for artists but since these are not in the TOP 1000 it should be no problem either way."
   ]
  },
  {
   "cell_type": "markdown",
   "metadata": {},
   "source": [
    "### Some more filtering\n",
    "\n",
    "And now get a list of all the images without the bold marked tags from the last section.\n",
    "\n",
    "Furthermore we need information about the distribution of the remaining tags etc. and we need to write them into some easily parsable format for further processing with our neural networks."
   ]
  },
  {
   "cell_type": "code",
   "execution_count": null,
   "metadata": {},
   "outputs": [
    {
     "name": "stdout",
     "output_type": "stream",
     "text": [
      "Done.\n"
     ]
    },
    {
     "data": {
      "text/plain": [
       "[]"
      ]
     },
     "execution_count": 43,
     "metadata": {},
     "output_type": "execute_result"
    }
   ],
   "source": [
    "%%sql\n",
    "CREATE OR REPLACE TEMPORARY VIEW final_posts AS\n",
    "SELECT *\n",
    "FROM filtered_images\n",
    "WHERE id NOT IN\n",
    "    (SELECT DISTINCT post_id\n",
    "     FROM tagged\n",
    "     WHERE tag_id\n",
    "     IN\n",
    "        (SELECT id as tag_id FROM tags\n",
    "         WHERE name = 'comic'\n",
    "         OR name = 'no_humans'\n",
    "         OR name = 'lowres'\n",
    "         OR name = '4koma'\n",
    "         OR name = 'photo'\n",
    "         OR name = '3d'))\n",
    "ORDER BY id ASC"
   ]
  },
  {
   "cell_type": "code",
   "execution_count": null,
   "metadata": {},
   "outputs": [
    {
     "name": "stdout",
     "output_type": "stream",
     "text": [
      "2077177 rows affected.\n"
     ]
    }
   ],
   "source": [
    "final_posts = %sql SELECT * FROM final_posts"
   ]
  },
  {
   "cell_type": "code",
   "execution_count": null,
   "metadata": {},
   "outputs": [],
   "source": [
    "%%sql\n",
    "SELECT tags.name, tag_count.count, tags.category\n",
    "FROM\n",
    "(\n",
    "    SELECT tagged.tag_id, COUNT(tagged.post_id)\n",
    "    FROM\n",
    "    final_posts\n",
    "    INNER JOIN\n",
    "    tagged\n",
    "    ON final_posts.id = tagged.post_id\n",
    "    GROUP BY tagged.tag_id\n",
    "    HAVING COUNT(tagged.post_id) >= 10000\n",
    ") tag_count\n",
    "INNER JOIN\n",
    "tags\n",
    "ON tag_count.tag_id = tags.id\n",
    "WHERE tags.category = 'g'\n",
    "ORDER BY tag_count.count DESC"
   ]
  },
  {
   "cell_type": "code",
   "execution_count": null,
   "metadata": {},
   "outputs": [],
   "source": [
    "final_tag_count = _"
   ]
  },
  {
   "cell_type": "code",
   "execution_count": null,
   "metadata": {},
   "outputs": [],
   "source": [
    "plot_count(final_tag_count, len(final_tag_count) // 10)"
   ]
  }
 ],
 "metadata": {
  "kernelspec": {
   "display_name": "Python 3",
   "language": "python",
   "name": "python3"
  },
  "language_info": {
   "codemirror_mode": {
    "name": "ipython",
    "version": 3
   },
   "file_extension": ".py",
   "mimetype": "text/x-python",
   "name": "python",
   "nbconvert_exporter": "python",
   "pygments_lexer": "ipython3",
   "version": "3.6.3"
  }
 },
 "nbformat": 4,
 "nbformat_minor": 2
}
